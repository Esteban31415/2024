{
 "cells": [
  {
   "cell_type": "markdown",
   "metadata": {},
   "source": [
    "# (ADA) Homework 1: Scoring the Language Model Olympics"
   ]
  },
  {
   "cell_type": "code",
   "execution_count": 2,
   "metadata": {},
   "outputs": [],
   "source": [
    "import os\n",
    "import pandas as pd\n",
    "import numpy as np\n",
    "import matplotlib.pyplot as plt\n",
    "import warnings\n",
    "from scipy.stats import ttest_ind\n",
    "import seaborn as sns"
   ]
  },
  {
   "cell_type": "markdown",
   "metadata": {},
   "source": [
    "## Task 1 (18 points): What's in an average anyway?\n",
    "\n",
    "### 1.1 (1 pt)\n",
    " \n",
    "Load the subfiles contained in the `mmlu_data` and `lm_scores` folders into separate dataframes:\n",
    "- `df_test`\n",
    "- `df_x`\n",
    "- `df_y`\n",
    "- `df_z`\n",
    "\n",
    "for each, print their sizes."
   ]
  },
  {
   "cell_type": "code",
   "execution_count": 3,
   "metadata": {},
   "outputs": [
    {
     "ename": "FileNotFoundError",
     "evalue": "[Errno 2] No such file or directory: 'task_1/mmlu_data/test.csv'",
     "output_type": "error",
     "traceback": [
      "\u001b[1;31m---------------------------------------------------------------------------\u001b[0m",
      "\u001b[1;31mFileNotFoundError\u001b[0m                         Traceback (most recent call last)",
      "Cell \u001b[1;32mIn[3], line 2\u001b[0m\n\u001b[0;32m      1\u001b[0m \u001b[38;5;66;03m# load csv files\u001b[39;00m\n\u001b[1;32m----> 2\u001b[0m df_test \u001b[38;5;241m=\u001b[39m pd\u001b[38;5;241m.\u001b[39mread_csv(\u001b[38;5;124m'\u001b[39m\u001b[38;5;124mtask_1/mmlu_data/test.csv\u001b[39m\u001b[38;5;124m'\u001b[39m)\n\u001b[0;32m      3\u001b[0m df_x \u001b[38;5;241m=\u001b[39m pd\u001b[38;5;241m.\u001b[39mread_csv(\u001b[38;5;124m'\u001b[39m\u001b[38;5;124m./task_1/lm_scores/lm_X.csv\u001b[39m\u001b[38;5;124m'\u001b[39m)\n\u001b[0;32m      4\u001b[0m df_y \u001b[38;5;241m=\u001b[39m pd\u001b[38;5;241m.\u001b[39mread_csv(\u001b[38;5;124m'\u001b[39m\u001b[38;5;124m./task_1/lm_scores/lm_Y.csv\u001b[39m\u001b[38;5;124m'\u001b[39m)\n",
      "File \u001b[1;32mc:\\Users\\babou\\EPFL\\Software\\Anaconda\\envs\\ada\\Lib\\site-packages\\pandas\\io\\parsers\\readers.py:1026\u001b[0m, in \u001b[0;36mread_csv\u001b[1;34m(filepath_or_buffer, sep, delimiter, header, names, index_col, usecols, dtype, engine, converters, true_values, false_values, skipinitialspace, skiprows, skipfooter, nrows, na_values, keep_default_na, na_filter, verbose, skip_blank_lines, parse_dates, infer_datetime_format, keep_date_col, date_parser, date_format, dayfirst, cache_dates, iterator, chunksize, compression, thousands, decimal, lineterminator, quotechar, quoting, doublequote, escapechar, comment, encoding, encoding_errors, dialect, on_bad_lines, delim_whitespace, low_memory, memory_map, float_precision, storage_options, dtype_backend)\u001b[0m\n\u001b[0;32m   1013\u001b[0m kwds_defaults \u001b[38;5;241m=\u001b[39m _refine_defaults_read(\n\u001b[0;32m   1014\u001b[0m     dialect,\n\u001b[0;32m   1015\u001b[0m     delimiter,\n\u001b[1;32m   (...)\u001b[0m\n\u001b[0;32m   1022\u001b[0m     dtype_backend\u001b[38;5;241m=\u001b[39mdtype_backend,\n\u001b[0;32m   1023\u001b[0m )\n\u001b[0;32m   1024\u001b[0m kwds\u001b[38;5;241m.\u001b[39mupdate(kwds_defaults)\n\u001b[1;32m-> 1026\u001b[0m \u001b[38;5;28;01mreturn\u001b[39;00m _read(filepath_or_buffer, kwds)\n",
      "File \u001b[1;32mc:\\Users\\babou\\EPFL\\Software\\Anaconda\\envs\\ada\\Lib\\site-packages\\pandas\\io\\parsers\\readers.py:620\u001b[0m, in \u001b[0;36m_read\u001b[1;34m(filepath_or_buffer, kwds)\u001b[0m\n\u001b[0;32m    617\u001b[0m _validate_names(kwds\u001b[38;5;241m.\u001b[39mget(\u001b[38;5;124m\"\u001b[39m\u001b[38;5;124mnames\u001b[39m\u001b[38;5;124m\"\u001b[39m, \u001b[38;5;28;01mNone\u001b[39;00m))\n\u001b[0;32m    619\u001b[0m \u001b[38;5;66;03m# Create the parser.\u001b[39;00m\n\u001b[1;32m--> 620\u001b[0m parser \u001b[38;5;241m=\u001b[39m TextFileReader(filepath_or_buffer, \u001b[38;5;241m*\u001b[39m\u001b[38;5;241m*\u001b[39mkwds)\n\u001b[0;32m    622\u001b[0m \u001b[38;5;28;01mif\u001b[39;00m chunksize \u001b[38;5;129;01mor\u001b[39;00m iterator:\n\u001b[0;32m    623\u001b[0m     \u001b[38;5;28;01mreturn\u001b[39;00m parser\n",
      "File \u001b[1;32mc:\\Users\\babou\\EPFL\\Software\\Anaconda\\envs\\ada\\Lib\\site-packages\\pandas\\io\\parsers\\readers.py:1620\u001b[0m, in \u001b[0;36mTextFileReader.__init__\u001b[1;34m(self, f, engine, **kwds)\u001b[0m\n\u001b[0;32m   1617\u001b[0m     \u001b[38;5;28mself\u001b[39m\u001b[38;5;241m.\u001b[39moptions[\u001b[38;5;124m\"\u001b[39m\u001b[38;5;124mhas_index_names\u001b[39m\u001b[38;5;124m\"\u001b[39m] \u001b[38;5;241m=\u001b[39m kwds[\u001b[38;5;124m\"\u001b[39m\u001b[38;5;124mhas_index_names\u001b[39m\u001b[38;5;124m\"\u001b[39m]\n\u001b[0;32m   1619\u001b[0m \u001b[38;5;28mself\u001b[39m\u001b[38;5;241m.\u001b[39mhandles: IOHandles \u001b[38;5;241m|\u001b[39m \u001b[38;5;28;01mNone\u001b[39;00m \u001b[38;5;241m=\u001b[39m \u001b[38;5;28;01mNone\u001b[39;00m\n\u001b[1;32m-> 1620\u001b[0m \u001b[38;5;28mself\u001b[39m\u001b[38;5;241m.\u001b[39m_engine \u001b[38;5;241m=\u001b[39m \u001b[38;5;28mself\u001b[39m\u001b[38;5;241m.\u001b[39m_make_engine(f, \u001b[38;5;28mself\u001b[39m\u001b[38;5;241m.\u001b[39mengine)\n",
      "File \u001b[1;32mc:\\Users\\babou\\EPFL\\Software\\Anaconda\\envs\\ada\\Lib\\site-packages\\pandas\\io\\parsers\\readers.py:1880\u001b[0m, in \u001b[0;36mTextFileReader._make_engine\u001b[1;34m(self, f, engine)\u001b[0m\n\u001b[0;32m   1878\u001b[0m     \u001b[38;5;28;01mif\u001b[39;00m \u001b[38;5;124m\"\u001b[39m\u001b[38;5;124mb\u001b[39m\u001b[38;5;124m\"\u001b[39m \u001b[38;5;129;01mnot\u001b[39;00m \u001b[38;5;129;01min\u001b[39;00m mode:\n\u001b[0;32m   1879\u001b[0m         mode \u001b[38;5;241m+\u001b[39m\u001b[38;5;241m=\u001b[39m \u001b[38;5;124m\"\u001b[39m\u001b[38;5;124mb\u001b[39m\u001b[38;5;124m\"\u001b[39m\n\u001b[1;32m-> 1880\u001b[0m \u001b[38;5;28mself\u001b[39m\u001b[38;5;241m.\u001b[39mhandles \u001b[38;5;241m=\u001b[39m get_handle(\n\u001b[0;32m   1881\u001b[0m     f,\n\u001b[0;32m   1882\u001b[0m     mode,\n\u001b[0;32m   1883\u001b[0m     encoding\u001b[38;5;241m=\u001b[39m\u001b[38;5;28mself\u001b[39m\u001b[38;5;241m.\u001b[39moptions\u001b[38;5;241m.\u001b[39mget(\u001b[38;5;124m\"\u001b[39m\u001b[38;5;124mencoding\u001b[39m\u001b[38;5;124m\"\u001b[39m, \u001b[38;5;28;01mNone\u001b[39;00m),\n\u001b[0;32m   1884\u001b[0m     compression\u001b[38;5;241m=\u001b[39m\u001b[38;5;28mself\u001b[39m\u001b[38;5;241m.\u001b[39moptions\u001b[38;5;241m.\u001b[39mget(\u001b[38;5;124m\"\u001b[39m\u001b[38;5;124mcompression\u001b[39m\u001b[38;5;124m\"\u001b[39m, \u001b[38;5;28;01mNone\u001b[39;00m),\n\u001b[0;32m   1885\u001b[0m     memory_map\u001b[38;5;241m=\u001b[39m\u001b[38;5;28mself\u001b[39m\u001b[38;5;241m.\u001b[39moptions\u001b[38;5;241m.\u001b[39mget(\u001b[38;5;124m\"\u001b[39m\u001b[38;5;124mmemory_map\u001b[39m\u001b[38;5;124m\"\u001b[39m, \u001b[38;5;28;01mFalse\u001b[39;00m),\n\u001b[0;32m   1886\u001b[0m     is_text\u001b[38;5;241m=\u001b[39mis_text,\n\u001b[0;32m   1887\u001b[0m     errors\u001b[38;5;241m=\u001b[39m\u001b[38;5;28mself\u001b[39m\u001b[38;5;241m.\u001b[39moptions\u001b[38;5;241m.\u001b[39mget(\u001b[38;5;124m\"\u001b[39m\u001b[38;5;124mencoding_errors\u001b[39m\u001b[38;5;124m\"\u001b[39m, \u001b[38;5;124m\"\u001b[39m\u001b[38;5;124mstrict\u001b[39m\u001b[38;5;124m\"\u001b[39m),\n\u001b[0;32m   1888\u001b[0m     storage_options\u001b[38;5;241m=\u001b[39m\u001b[38;5;28mself\u001b[39m\u001b[38;5;241m.\u001b[39moptions\u001b[38;5;241m.\u001b[39mget(\u001b[38;5;124m\"\u001b[39m\u001b[38;5;124mstorage_options\u001b[39m\u001b[38;5;124m\"\u001b[39m, \u001b[38;5;28;01mNone\u001b[39;00m),\n\u001b[0;32m   1889\u001b[0m )\n\u001b[0;32m   1890\u001b[0m \u001b[38;5;28;01massert\u001b[39;00m \u001b[38;5;28mself\u001b[39m\u001b[38;5;241m.\u001b[39mhandles \u001b[38;5;129;01mis\u001b[39;00m \u001b[38;5;129;01mnot\u001b[39;00m \u001b[38;5;28;01mNone\u001b[39;00m\n\u001b[0;32m   1891\u001b[0m f \u001b[38;5;241m=\u001b[39m \u001b[38;5;28mself\u001b[39m\u001b[38;5;241m.\u001b[39mhandles\u001b[38;5;241m.\u001b[39mhandle\n",
      "File \u001b[1;32mc:\\Users\\babou\\EPFL\\Software\\Anaconda\\envs\\ada\\Lib\\site-packages\\pandas\\io\\common.py:873\u001b[0m, in \u001b[0;36mget_handle\u001b[1;34m(path_or_buf, mode, encoding, compression, memory_map, is_text, errors, storage_options)\u001b[0m\n\u001b[0;32m    868\u001b[0m \u001b[38;5;28;01melif\u001b[39;00m \u001b[38;5;28misinstance\u001b[39m(handle, \u001b[38;5;28mstr\u001b[39m):\n\u001b[0;32m    869\u001b[0m     \u001b[38;5;66;03m# Check whether the filename is to be opened in binary mode.\u001b[39;00m\n\u001b[0;32m    870\u001b[0m     \u001b[38;5;66;03m# Binary mode does not support 'encoding' and 'newline'.\u001b[39;00m\n\u001b[0;32m    871\u001b[0m     \u001b[38;5;28;01mif\u001b[39;00m ioargs\u001b[38;5;241m.\u001b[39mencoding \u001b[38;5;129;01mand\u001b[39;00m \u001b[38;5;124m\"\u001b[39m\u001b[38;5;124mb\u001b[39m\u001b[38;5;124m\"\u001b[39m \u001b[38;5;129;01mnot\u001b[39;00m \u001b[38;5;129;01min\u001b[39;00m ioargs\u001b[38;5;241m.\u001b[39mmode:\n\u001b[0;32m    872\u001b[0m         \u001b[38;5;66;03m# Encoding\u001b[39;00m\n\u001b[1;32m--> 873\u001b[0m         handle \u001b[38;5;241m=\u001b[39m \u001b[38;5;28mopen\u001b[39m(\n\u001b[0;32m    874\u001b[0m             handle,\n\u001b[0;32m    875\u001b[0m             ioargs\u001b[38;5;241m.\u001b[39mmode,\n\u001b[0;32m    876\u001b[0m             encoding\u001b[38;5;241m=\u001b[39mioargs\u001b[38;5;241m.\u001b[39mencoding,\n\u001b[0;32m    877\u001b[0m             errors\u001b[38;5;241m=\u001b[39merrors,\n\u001b[0;32m    878\u001b[0m             newline\u001b[38;5;241m=\u001b[39m\u001b[38;5;124m\"\u001b[39m\u001b[38;5;124m\"\u001b[39m,\n\u001b[0;32m    879\u001b[0m         )\n\u001b[0;32m    880\u001b[0m     \u001b[38;5;28;01melse\u001b[39;00m:\n\u001b[0;32m    881\u001b[0m         \u001b[38;5;66;03m# Binary mode\u001b[39;00m\n\u001b[0;32m    882\u001b[0m         handle \u001b[38;5;241m=\u001b[39m \u001b[38;5;28mopen\u001b[39m(handle, ioargs\u001b[38;5;241m.\u001b[39mmode)\n",
      "\u001b[1;31mFileNotFoundError\u001b[0m: [Errno 2] No such file or directory: 'task_1/mmlu_data/test.csv'"
     ]
    }
   ],
   "source": [
    "# load csv files\n",
    "df_test = pd.read_csv('task_1/mmlu_data/test.csv')\n",
    "df_x = pd.read_csv('./task_1/lm_scores/lm_X.csv')\n",
    "df_y = pd.read_csv('./task_1/lm_scores/lm_Y.csv')\n",
    "df_z = pd.read_csv('./task_1/lm_scores/lm_Z.csv')\n",
    "\n",
    "# print their size\n",
    "print('Size of df_test : ' + str(df_test.shape))\n",
    "print('Size of df_x : ' + str(df_x.shape))\n",
    "print('Size of df_y : ' + str(df_y.shape))\n",
    "print('Size of df_z : ' + str(df_z.shape))"
   ]
  },
  {
   "cell_type": "markdown",
   "metadata": {},
   "source": [
    "##We can see that for LM X, Y and Z, they all show different shapes, possibly explained by skipped questions."
   ]
  },
  {
   "cell_type": "markdown",
   "metadata": {},
   "source": [
    "### 1.2 (4 pt)\n",
    "Unfortunately, LMs don't always output the format we want. In the column `result`, the value should be one of A, B, C, or D. "
   ]
  },
  {
   "cell_type": "markdown",
   "metadata": {},
   "source": [
    "#### Part A (Code)\n",
    "For each of the LM score dataframes, use a `value_counts()` operation and print the results. "
   ]
  },
  {
   "cell_type": "code",
   "execution_count": 4,
   "metadata": {},
   "outputs": [
    {
     "ename": "NameError",
     "evalue": "name 'df_x' is not defined",
     "output_type": "error",
     "traceback": [
      "\u001b[1;31m---------------------------------------------------------------------------\u001b[0m",
      "\u001b[1;31mNameError\u001b[0m                                 Traceback (most recent call last)",
      "Cell \u001b[1;32mIn[4], line 14\u001b[0m\n\u001b[0;32m     11\u001b[0m     \u001b[38;5;28mprint\u001b[39m(\u001b[38;5;124m\"\u001b[39m\u001b[38;5;130;01m\\n\u001b[39;00m\u001b[38;5;130;01m\\n\u001b[39;00m\u001b[38;5;124m----------------------------------------------\u001b[39m\u001b[38;5;130;01m\\n\u001b[39;00m\u001b[38;5;130;01m\\n\u001b[39;00m\u001b[38;5;124m\"\u001b[39m)\n\u001b[0;32m     13\u001b[0m \u001b[38;5;66;03m# call the function \"print_sorted_value_counts\" for each lm\u001b[39;00m\n\u001b[1;32m---> 14\u001b[0m print_sorted_value_counts(df_x, \u001b[38;5;124m\"\u001b[39m\u001b[38;5;124mLM X\u001b[39m\u001b[38;5;124m\"\u001b[39m)\n\u001b[0;32m     15\u001b[0m print_sorted_value_counts(df_y, \u001b[38;5;124m\"\u001b[39m\u001b[38;5;124mLM Y\u001b[39m\u001b[38;5;124m\"\u001b[39m)\n\u001b[0;32m     16\u001b[0m print_sorted_value_counts(df_z, \u001b[38;5;124m\"\u001b[39m\u001b[38;5;124mLM Z\u001b[39m\u001b[38;5;124m\"\u001b[39m)\n",
      "\u001b[1;31mNameError\u001b[0m: name 'df_x' is not defined"
     ]
    }
   ],
   "source": [
    "#A\n",
    "def print_sorted_value_counts(df, LM_name):\n",
    "    # compute value counts and convert to dictionary\n",
    "    value_counts_df = df['result'].value_counts().to_dict()\n",
    "    # sort them by the length of characters \n",
    "    sorted_value_counts_df = sorted(value_counts_df.items(), key = lambda a: len(str(a[0])))\n",
    "    # print the first 25 most common types of answer in sorter_value_counts_df\n",
    "    print(f\"Sorted value counts for {LM_name}:\\n\")\n",
    "    for i, value in sorted_value_counts_df[:25]: # take off the '[:25]' to inspect the full dataframe\n",
    "        print(f\"{i}: {value}\")\n",
    "    print(\"\\n\\n----------------------------------------------\\n\\n\")\n",
    "\n",
    "# call the function \"print_sorted_value_counts\" for each lm\n",
    "print_sorted_value_counts(df_x, \"LM X\")\n",
    "print_sorted_value_counts(df_y, \"LM Y\")\n",
    "print_sorted_value_counts(df_z, \"LM Z\")"
   ]
  },
  {
   "cell_type": "markdown",
   "metadata": {},
   "source": [
    "##This allows us to clearly see the most common answers (detailed below) directly for further analysis. Defining a function allows us to recall it later on if needed and be able to use it with other potential datasets."
   ]
  },
  {
   "cell_type": "markdown",
   "metadata": {},
   "source": [
    "#### Part B (Discussion)\n",
    "**Inspect the results and describe the types of answer formats you see. Besides the \"expected\" case, you should be able to find at least four unexpected formats.**"
   ]
  },
  {
   "cell_type": "markdown",
   "metadata": {},
   "source": [
    "By sorting the answers by length of character, we see besides the expected answers A,B, C, D and several other answers. They fall into some main categories(here A is used as example but applies to B, C and D too):\n",
    "1) Similar to expected answer, but with the addition of one or more spaces (e.g 'A ' instead of 'A')\n",
    "2) Formatted as 'Answer: A' instead of 'A'\n",
    "3) Answers including a text explanation/reasoning and then the answer (e.g. \"Some explanation... so answer is A\" instead of A, or variations around that format)\n",
    "4) 'Not Sure' answer\n",
    "5) 'None of the above' answer\n",
    "\n",
    "And by manually inspecting the data (also hinted by the differences on sizes in Part 1.1) :\n",
    "6) It doesn't answer at all, and leaves it blank"
   ]
  },
  {
   "cell_type": "markdown",
   "metadata": {},
   "source": [
    "### 1.3 (5 pt)\n",
    "Oh oh... That doesn't look great. Simply dropping all invalid answers seems overly wasteful, yet fixing all of these looks like a mess! Instead, let's focus for now on fixing just those answers of length < 10 characters that require only a single `str.replace()` operation. \n",
    "\n",
    "For example, if the answer looks like `--A--`, we could fix this by using the following simple function:\n",
    "\n",
    "```\n",
    "def clean_answer(s, pattern='-'):\n",
    "    return str(s).replace(pattern, '')\n",
    "\n",
    "dirty_answer = '--A--'\n",
    "clean_answer = clean_answer(dirty_answer)\n",
    "```"
   ]
  },
  {
   "cell_type": "markdown",
   "metadata": {},
   "source": [
    "#### Part A (Code)\n",
    "Filter the three score dataframes to include only answers with less than 10 characters. Make a deep copy of the dataframes as you filter them."
   ]
  },
  {
   "cell_type": "code",
   "execution_count": 2771,
   "metadata": {},
   "outputs": [
    {
     "name": "stdout",
     "output_type": "stream",
     "text": [
      "Sorted value counts for df_x:\n",
      "\n",
      "A: 2733\n",
      "B: 1412\n",
      "C: 1134\n",
      "D: 1124\n",
      "A : 1657\n",
      "B : 793\n",
      "C : 622\n",
      "D : 596\n",
      "Not Sure: 73\n",
      "Answer: A: 1398\n",
      "Answer: B: 760\n",
      "Answer: D: 613\n",
      "Answer: C: 594\n",
      "\n",
      "\n",
      "----------------------------------------------\n",
      "\n",
      "\n",
      "Sorted value counts for df_y:\n",
      "\n",
      "D: 2894\n",
      "C: 1701\n",
      "B: 1240\n",
      "A: 1008\n",
      "D : 1145\n",
      "C : 634\n",
      "B : 553\n",
      "A : 428\n",
      "Not Sure: 86\n",
      "Answer: D: 1718\n",
      "Answer: C: 907\n",
      "Answer: B: 726\n",
      "Answer: A: 597\n",
      "\n",
      "\n",
      "----------------------------------------------\n",
      "\n",
      "\n",
      "Sorted value counts for df_z:\n",
      "\n",
      "D: 2257\n",
      "C: 2191\n",
      "B: 2127\n",
      "A: 2060\n",
      "C : 316\n",
      "D : 314\n",
      "B : 285\n",
      "A : 279\n",
      "Not Sure: 125\n",
      "Answer: D: 777\n",
      "Answer: C: 748\n",
      "Answer: B: 712\n",
      "Answer: A: 687\n",
      "\n",
      "\n",
      "----------------------------------------------\n",
      "\n",
      "\n"
     ]
    }
   ],
   "source": [
    "#A\n",
    "# filter the answers shorter than 10 characters and create the deep copies\n",
    "df_x_filtered = df_x.loc[df_x[\"result\"].str.len()<10].copy(deep=True)\n",
    "df_y_filtered = df_y.loc[df_y[\"result\"].str.len()<10].copy(deep=True)\n",
    "df_z_filtered = df_z.loc[df_z[\"result\"].str.len()<10].copy(deep=True)\n",
    "\n",
    "# check their content by reusing the print_sorted_value_counts function\n",
    "print_sorted_value_counts(df_x_filtered, \"df_x\")\n",
    "print_sorted_value_counts(df_y_filtered, \"df_y\")\n",
    "print_sorted_value_counts(df_z_filtered, \"df_z\")"
   ]
  },
  {
   "cell_type": "markdown",
   "metadata": {},
   "source": [
    "##Here, we filter the rows of the 'result' column of each LM to discard every answer longer than 9 characters and then create deep copies to ensure no consequences on our original data. Then, we recall our function \"print_sorted_value_counts\" from earlier and we see < 25 prints per dataframe meaning that we see the whole dataframe. Here, we see that there are spaces to take off, 'Not Sure' answers to discard and also \"Answer: A\" to clean (take off 'Answer ')."
   ]
  },
  {
   "cell_type": "markdown",
   "metadata": {},
   "source": [
    "#### Part B (Code)\n",
    "Modify the `clean_answer()` example function to clean the answers in the filtered data frames using the `apply()` functionality. Finally, make sure **all remaining answers are one of `A, B, C, or D`.**"
   ]
  },
  {
   "cell_type": "code",
   "execution_count": 2772,
   "metadata": {},
   "outputs": [
    {
     "name": "stdout",
     "output_type": "stream",
     "text": [
      "For LM X :\n",
      "A    5788\n",
      "B    2965\n",
      "C    2350\n",
      "D    2333\n",
      "Original size: 13882\n",
      "Clean data size: 13436\n",
      "Data removed: 446\n",
      "Data removed in percents: 3.21 %\n",
      "\n",
      "For LM Y :\n",
      "D    5757\n",
      "C    3242\n",
      "B    2519\n",
      "A    2033\n",
      "Original size: 13978\n",
      "Clean data size: 13551\n",
      "Data removed: 427\n",
      "Data removed in percents: 3.05 %\n",
      "\n",
      "For LM Z :\n",
      "D    3348\n",
      "C    3255\n",
      "B    3124\n",
      "A    3026\n",
      "Original size: 13923\n",
      "Clean data size: 12753\n",
      "Data removed: 1170\n",
      "Data removed in percents: 8.4 %\n",
      "\n"
     ]
    }
   ],
   "source": [
    "#B\n",
    "# clean the results colums of the dataframe (here, we transform 'Answer: X' and 'X ' to be 'X')\n",
    "def clean_answer(s, pattern='Answer: '):\n",
    "    newstr = str(s).replace(pattern, '') # replace all answers of the form 'Answer: X' into 'X'\n",
    "    newstr = str(newstr).replace(' ','') # remove all spaces\n",
    "    return newstr\n",
    "\n",
    "# apply the function to replace 'Answer: X' and remove spaces for each filtered dataframe \n",
    "df_x_filtered.result = df_x_filtered.result.apply(lambda a : clean_answer(a)) \n",
    "df_y_filtered.result = df_y_filtered.result.apply(lambda a : clean_answer(a))\n",
    "df_z_filtered.result = df_z_filtered.result.apply(lambda a : clean_answer(a))\n",
    "\n",
    "# removing all 'NotSure' (now that all spaces have been removed) answers for each filtered and cleaned dataframe\n",
    "df_x_cleaned = df_x_filtered.loc[df_x_filtered.result!='NotSure']\n",
    "df_y_cleaned = df_y_filtered.loc[df_y_filtered.result!='NotSure']\n",
    "df_z_cleaned = df_z_filtered.loc[df_z_filtered.result!='NotSure']\n",
    "\n",
    "# function to print the newly cleaned dataframes and show further information like the total information discarded from filtering and cleaning\n",
    "def print_cleaned_df_informations(old_df, new_df, LM_name):\n",
    "    print('For ' + LM_name + ' :') \n",
    "    print(new_df['result'].value_counts().to_string(header=False)) # print the value count of the cleaned and filtered dataframe\n",
    "    print('Original size: %d' % old_df.shape[0]) # print original size of the dataframe\n",
    "    print('Clean data size: %d' % new_df.shape[0]) # display size of the dataframe after cleaning and filtering\n",
    "    print('Data removed: %d' % (old_df.shape[0]-new_df.shape[0])) # compute amout of data removed\n",
    "    print('Data removed in percents:', round((100*(old_df.shape[0]-new_df.shape[0])/old_df.shape[0]),2), '%\\n') # compute percentage of original data removed in %\n",
    "\n",
    "# use the function 'print_cleaned_df_informations'\n",
    "print_cleaned_df_informations(df_x, df_x_cleaned, 'LM X')\n",
    "print_cleaned_df_informations(df_y, df_y_cleaned, 'LM Y')\n",
    "print_cleaned_df_informations(df_z, df_z_cleaned, 'LM Z')"
   ]
  },
  {
   "cell_type": "markdown",
   "metadata": {},
   "source": [
    "##Here, we used the function provided \"clean_answer()\" to keep as much data as possible to transform 'Answer: X' and 'X ' to 'X' so we can more easily do further analysis. Then, we removed the unwanted answers \"Not Sure\" and printed the value counts of the newly cleaned dataframe and the amount of information removed from the filtering (<10) and the cleaning in numbers and in %. \n",
    "\n",
    "##Note that we could have filtered differently to keep more usefull data in our cleaned dataframe by not filtering by length <10. Indeed, after looking at the data on Part 1.2 (Part A), we can see that we could have discarded the data more intelligentely as everytime the LM answers with a long answer (>10 characters), its answer always ends with 'A', 'B', 'C' or 'D' which means we could have used this information to filter more wisely, without too much effort (SQL allows that very easily). We then would have to also think about taking off 'None of the above' answers in addition to the 'Not Sure'."
   ]
  },
  {
   "cell_type": "markdown",
   "metadata": {},
   "source": [
    "#### Part B (Discussion)\n",
    "**Compare the sizes of the original and filtered data frames. What do you see? Why might this be a problem?**\n",
    "\n"
   ]
  },
  {
   "cell_type": "markdown",
   "metadata": {},
   "source": [
    "We see that for the datasets, the amount of data that gets discarded is important. Especially for dataset of LM Z, where 8.4% of the data gets discarded (the other two are around 3% discarded data). That might be unfair to all LMs,  (even more to LM Z where more data gets discarded) if the data that gets discarded does not have the same distribution than the remaining data. This could result in wrong results and also poorer performance for LM Z compared to LM X and LM Y.\n",
    "\n",
    "This discarded data can be a problem as these data are part of our study. They aren't not in the sense or format we expect for this analysis and it's why we filtered them, but they remain data generated by the models we are investigating and they shouldn't be simply ignored. The decision of ignoring them should at least involve thinking about them and mention their exclusion."
   ]
  },
  {
   "cell_type": "markdown",
   "metadata": {},
   "source": [
    "### 1.4 (3 pt)\n",
    "Now that our answer columns are nicely formatted, let's take a look at model performance:"
   ]
  },
  {
   "cell_type": "markdown",
   "metadata": {},
   "source": [
    "#### Part A (Code)\n",
    "Both the `MMLU` dataframes and the language model score data frames have the columns `question_id`. For each of the language model score data frames, use an inner join operation with the `df_test` dataframe on the `question_id` column."
   ]
  },
  {
   "cell_type": "code",
   "execution_count": 2773,
   "metadata": {},
   "outputs": [],
   "source": [
    "#A\n",
    "# do the inner join operation on the 'question_id' column\n",
    "df_x_joined = pd.merge(df_x_cleaned,df_test, left_on='question_id', right_on='question_id')\n",
    "df_y_joined = pd.merge(df_y_cleaned,df_test, left_on='question_id', right_on='question_id')\n",
    "df_z_joined = pd.merge(df_z_cleaned,df_test, left_on='question_id', right_on='question_id')"
   ]
  },
  {
   "cell_type": "markdown",
   "metadata": {},
   "source": [
    "#### Part B (Code)\n",
    "Add a new column to each of the resulting dataframes called `correct`, that checks if the model's answer in `result` is the same as the expected answer in the column `answer`. Then, print the average score of each model."
   ]
  },
  {
   "cell_type": "code",
   "execution_count": 2774,
   "metadata": {},
   "outputs": [
    {
     "name": "stdout",
     "output_type": "stream",
     "text": [
      "\n",
      "LM X : True = 10312, False = 3124\n",
      "Score : 0.7675\n",
      "\n",
      "LM Y : True = 10107, False = 3444\n",
      "Score : 0.7458\n",
      "\n",
      "LM Z : True = 8459, False = 4294\n",
      "Score : 0.6633\n"
     ]
    }
   ],
   "source": [
    "#B\n",
    "# adds to the dataframe a new column called 'correct' booleans (True if LM answered correctly, False otherwise) and then prints the scores of the LM \n",
    "def print_scores (df_joined, LM_name):\n",
    "    df_joined['correct'] = df_joined['result'] == df_joined['answer'] # creates a 'correct' column that possesses a boolean (True if the string in the 'result' column matches the 'answer' column, False otherwise)\n",
    "    nb_true = df_joined.loc[df_joined['correct'] == True].correct.count()  # counts the number of True in newly created 'correct' column\n",
    "    nb_false = df_joined.loc[df_joined['correct'] == False].correct.count()  # counts the number of False in newly created 'correct' column\n",
    "    print('\\n' + LM_name + ' : True = %d, False = %d' % (nb_true, nb_false)) # print the counts of True and False\n",
    "\n",
    "    df_score = df_joined['correct'].mean()  # computes the mean of the True/False values (True = 1, False = 0)\n",
    "    print('Score : %.4f' % df_score) \n",
    "\n",
    "# use print_score() function\n",
    "print_scores(df_x_joined, 'LM X')\n",
    "print_scores(df_y_joined, 'LM Y')\n",
    "print_scores(df_z_joined, 'LM Z')"
   ]
  },
  {
   "cell_type": "markdown",
   "metadata": {},
   "source": [
    "##We can see that the Language Model Z (66%) performs less well than the two others (~75%) by 10% which could indicate some unbalance. This could result from the 8.4% of removed data on the dataframe of LM Z compared to 3% removed for the dataframes of LM X and Y or could also result from the subjects of the questions (detailed below)."
   ]
  },
  {
   "cell_type": "markdown",
   "metadata": {},
   "source": [
    "### 1.5 (5 pt)\n",
    "\n",
    "Hmmm, something doesn't seem quite right. Let's investigate how \"balanced\" this dataset is:"
   ]
  },
  {
   "cell_type": "markdown",
   "metadata": {},
   "source": [
    "#### Part A (Code)\n",
    "For each of the 57 subjects in the MMLU, compare the number of questions answered by each model. Print the subjects for which there is a more than 10% difference.\n",
    "\n",
    "**hint:**\n",
    "- For a given subject, let model X and model Y have answered 181 and 200 questions respectively. You can consider this a 10% difference from the perspective of X since: (200 - 181) / 181 > 0.10"
   ]
  },
  {
   "cell_type": "code",
   "execution_count": 2775,
   "metadata": {},
   "outputs": [
    {
     "data": {
      "text/html": [
       "<div>\n",
       "<style scoped>\n",
       "    .dataframe tbody tr th:only-of-type {\n",
       "        vertical-align: middle;\n",
       "    }\n",
       "\n",
       "    .dataframe tbody tr th {\n",
       "        vertical-align: top;\n",
       "    }\n",
       "\n",
       "    .dataframe thead th {\n",
       "        text-align: right;\n",
       "    }\n",
       "</style>\n",
       "<table border=\"1\" class=\"dataframe\">\n",
       "  <thead>\n",
       "    <tr style=\"text-align: right;\">\n",
       "      <th></th>\n",
       "      <th>Answers_x</th>\n",
       "      <th>Answers_y</th>\n",
       "      <th>Answers_z</th>\n",
       "    </tr>\n",
       "    <tr>\n",
       "      <th>subject</th>\n",
       "      <th></th>\n",
       "      <th></th>\n",
       "      <th></th>\n",
       "    </tr>\n",
       "  </thead>\n",
       "  <tbody>\n",
       "    <tr>\n",
       "      <th>college chemistry</th>\n",
       "      <td>96</td>\n",
       "      <td>98</td>\n",
       "      <td>84</td>\n",
       "    </tr>\n",
       "    <tr>\n",
       "      <th>college computer science</th>\n",
       "      <td>97</td>\n",
       "      <td>98</td>\n",
       "      <td>84</td>\n",
       "    </tr>\n",
       "    <tr>\n",
       "      <th>computer security</th>\n",
       "      <td>95</td>\n",
       "      <td>98</td>\n",
       "      <td>87</td>\n",
       "    </tr>\n",
       "    <tr>\n",
       "      <th>formal logic</th>\n",
       "      <td>109</td>\n",
       "      <td>123</td>\n",
       "      <td>113</td>\n",
       "    </tr>\n",
       "    <tr>\n",
       "      <th>high school geography</th>\n",
       "      <td>195</td>\n",
       "      <td>193</td>\n",
       "      <td>176</td>\n",
       "    </tr>\n",
       "    <tr>\n",
       "      <th>logical fallacies</th>\n",
       "      <td>154</td>\n",
       "      <td>136</td>\n",
       "      <td>147</td>\n",
       "    </tr>\n",
       "    <tr>\n",
       "      <th>medical genetics</th>\n",
       "      <td>97</td>\n",
       "      <td>98</td>\n",
       "      <td>89</td>\n",
       "    </tr>\n",
       "    <tr>\n",
       "      <th>moral disputes</th>\n",
       "      <td>329</td>\n",
       "      <td>304</td>\n",
       "      <td>250</td>\n",
       "    </tr>\n",
       "    <tr>\n",
       "      <th>moral scenarios</th>\n",
       "      <td>737</td>\n",
       "      <td>865</td>\n",
       "      <td>774</td>\n",
       "    </tr>\n",
       "  </tbody>\n",
       "</table>\n",
       "</div>"
      ],
      "text/plain": [
       "                          Answers_x  Answers_y  Answers_z\n",
       "subject                                                  \n",
       "college chemistry                96         98         84\n",
       "college computer science         97         98         84\n",
       "computer security                95         98         87\n",
       "formal logic                    109        123        113\n",
       "high school geography           195        193        176\n",
       "logical fallacies               154        136        147\n",
       "medical genetics                 97         98         89\n",
       "moral disputes                  329        304        250\n",
       "moral scenarios                 737        865        774"
      ]
     },
     "execution_count": 2775,
     "metadata": {},
     "output_type": "execute_result"
    }
   ],
   "source": [
    "# A\n",
    "# group data by 'subject' and count the number of questions of each subject \n",
    "df_x_by_subj = df_x_joined.groupby(by='subject').count().result\n",
    "df_y_by_subj = df_y_joined.groupby(by='subject').count().result\n",
    "df_z_by_subj = df_z_joined.groupby(by='subject').count().result\n",
    "\n",
    "# merge the counts of answers for each subject into a single dataframe\n",
    "subjects = pd.merge(df_x_by_subj, df_y_by_subj, left_index=True, right_index=True)\n",
    "subjects = pd.merge(subjects, df_z_by_subj, left_index=True, right_index=True)\n",
    "\n",
    "#each column represents the number of answers for each subject by model\n",
    "subjects.columns = ['Answers_x', 'Answers_y', 'Answers_z']\n",
    "\n",
    "# function to compute the percentage difference between two models, for a given subject\n",
    "def compute_differences(data, model_1, model_2):\n",
    "    return np.abs(data[model_1] - data[model_2])/np.minimum(data[model_1], data[model_2]) *100 # multiplies by 100 to get the %\n",
    "\n",
    "# see subjects where the answer counts for the models with more than 10% differences\n",
    "subjects_unbalanced = subjects.loc[(compute_differences(subjects, 'Answers_x', 'Answers_y') > 10) | \n",
    "                                   (compute_differences(subjects, 'Answers_y', 'Answers_z') > 10) | \n",
    "                                   (compute_differences(subjects, 'Answers_x', 'Answers_z') > 10)]\n",
    "\n",
    "# display the table with the unbalanced subjects\n",
    "subjects_unbalanced"
   ]
  },
  {
   "cell_type": "markdown",
   "metadata": {},
   "source": [
    "##We can see that there are 9 subjects that might unbalance the results. Further investigation is needed to see if this really has an impact or not on the overall scores."
   ]
  },
  {
   "cell_type": "markdown",
   "metadata": {},
   "source": [
    "#### Part B (Code)\n",
    "Propose and implement a reasonable way to rebalance the results. (e.g., while throwing away 100% of the results perfectly rebalances the results, it is not reasonable)."
   ]
  },
  {
   "cell_type": "code",
   "execution_count": 2776,
   "metadata": {},
   "outputs": [],
   "source": [
    "#B\n",
    "\n",
    "# store scores of each LM before balancing the df_x_joined dataframe in order to compare later on\n",
    "avg_score_x = df_x_joined['correct'].mean()*100\n",
    "avg_score_y = df_y_joined['correct'].mean()*100\n",
    "avg_score_z = df_z_joined['correct'].mean()*100\n",
    "\n",
    "\n",
    "# randomly remove excess values from the datasets, to match the number of value of the dataset with less values\n",
    "\n",
    "# loop trough each subject in the dataframe containing unbalanced subjects \n",
    "for subject_name in subjects_unbalanced.index:\n",
    "\n",
    "     # finds the smallest number of correct answers among Answers_x, Answers_y and Answers_z for the current subject\n",
    "    target_size = min(subjects_unbalanced.loc[subject_name, [\"Answers_x\",\"Answers_y\",\"Answers_z\"]]) \n",
    "\n",
    "    # find how many questions to remove from model x based on the difference between its count and the target_size\n",
    "    n_data_to_remove_x = subjects_unbalanced.loc[subject_name, \"Answers_x\"]-target_size\n",
    "    # sample n random indices to remove from model x\n",
    "    idx_to_remove_x = df_x_joined.loc[df_x_joined.subject==subject_name].sample(n=n_data_to_remove_x).index\n",
    "    # remove the selected rows from model x\n",
    "    df_x_joined = df_x_joined.drop(idx_to_remove_x,axis=0)\n",
    "\n",
    "    # repeat the process for model y   \n",
    "    n_data_to_remove_y = subjects_unbalanced.loc[subject_name, \"Answers_y\"]-target_size\n",
    "    idx_to_remove_y = df_y_joined.loc[df_y_joined.subject==subject_name].sample(n=n_data_to_remove_y).index\n",
    "    df_y_joined = df_y_joined.drop(idx_to_remove_y,axis=0)\n",
    "\n",
    "    # repeat the process for model z\n",
    "    n_data_to_remove_z = subjects_unbalanced.loc[subject_name, \"Answers_z\"]-target_size\n",
    "    idx_to_remove_z = df_z_joined.loc[df_z_joined.subject==subject_name].sample(n=n_data_to_remove_z).index\n",
    "    df_z_joined = df_z_joined.drop(idx_to_remove_z,axis=0)"
   ]
  },
  {
   "cell_type": "markdown",
   "metadata": {},
   "source": [
    "#### Part C (Code)\n",
    "Finally, print the updated accuracy on the rebalanced data."
   ]
  },
  {
   "cell_type": "code",
   "execution_count": 2777,
   "metadata": {},
   "outputs": [
    {
     "name": "stdout",
     "output_type": "stream",
     "text": [
      "\n",
      "New results of LM X : \n",
      "True = 10198, False = 3081\n",
      "Old Average Score : 76.75%\n",
      "New Average Score : 76.8%\n",
      "\n",
      "New results of LM Y : \n",
      "True = 9922, False = 3368\n",
      "Old Average Score : 74.58%\n",
      "New Average Score : 74.66%\n",
      "\n",
      "New results of LM Z : \n"
     ]
    },
    {
     "name": "stdout",
     "output_type": "stream",
     "text": [
      "True = 8424, False = 4277\n",
      "Old Average Score : 66.33%\n",
      "New Average Score : 66.33%\n"
     ]
    }
   ],
   "source": [
    "#C\n",
    "\n",
    "# print the new count of True and False for each LM after balancing them and print the old score and the new score for comparison\n",
    "def print_and_compare_joined_vs_balanced(df_join, old_avg_score, LM_name):\n",
    "    print('\\nNew results of ' + LM_name + ' : ')\n",
    "    print('True = %d, False = %d' % (df_join.loc[df_join.correct==True].correct.count(), df_join.loc[df_join.correct==False].correct.count()))\n",
    "    print('Old Average Score : ' + str(round(old_avg_score, 2)) + '%')\n",
    "    new_avg_score = df_join['correct'].mean()*100\n",
    "    print('New Average Score : ' + str(round(new_avg_score, 2)) + '%')\n",
    "\n",
    "# displays for comparison and takes avg_score_x/y/z which is the score of LM X/Y/Z before the balancing\n",
    "print_and_compare_joined_vs_balanced(df_x_joined, avg_score_x, 'LM X')\n",
    "print_and_compare_joined_vs_balanced(df_y_joined, avg_score_y, 'LM Y')\n",
    "print_and_compare_joined_vs_balanced(df_z_joined, avg_score_z, 'LM Z')"
   ]
  },
  {
   "cell_type": "markdown",
   "metadata": {},
   "source": [
    "##Here, we see that correcting the unbalance does not change the scores of the LM in significant way (<0.1% every time), confirming no clear influence of these subjects on the LM performance."
   ]
  },
  {
   "cell_type": "markdown",
   "metadata": {},
   "source": [
    "## Task 2 (26 points): What do you mean A > D > B > C...?"
   ]
  },
  {
   "cell_type": "markdown",
   "metadata": {},
   "source": [
    "Nice work! Having successfully inspected, cleaned, and rebalanced the provided data, you head over to director of the government's NEUTRALITY project. Ms. Sakota is happy with your work so far, but worried that the sloppy intern might have done more undetected damage. To be sure, she orders a new set of evaluations of all models on both MMLU and another dataset.\n",
    "\n",
    "After cleaning up and rebalancing, you are left with the concatenated score files in the second folder `task_2`:\n",
    "```\n",
    "task_2/\n",
    "│\n",
    "└── lm_scores_mmlu.csv\n",
    "│\n",
    "└── lm_scores_other.csv\n",
    "```\n",
    "\n",
    "Each has a new column called `model_name`, which is one of `X, Y` or `Z`.\n",
    "\n",
    "\n",
    "\n",
    "_NOTE: **only** use data from `task_2` and `task_2_5` for this assignment! The values in `lm_scores_mmlu.csv` will NOT be the same as the dataframes you finished in task 1. This is due to \"randomness\" or \"temperature\" in language model inference. This can slightly shift around generative results. (Conveniently: it also ensures any mistakes made in Task 1 don't propogate further ;) )_"
   ]
  },
  {
   "cell_type": "code",
   "execution_count": 2778,
   "metadata": {},
   "outputs": [],
   "source": [
    "# PROVIDED CODE\n",
    "df_mmlu = pd.read_csv('task_2/lm_scores_mmlu.csv')\n",
    "df_other = pd.read_csv('task_2/lm_scores_other.csv')"
   ]
  },
  {
   "cell_type": "markdown",
   "metadata": {},
   "source": [
    "### 2.1 (4 pt)\n",
    "\n",
    "Let's explore the new results:"
   ]
  },
  {
   "cell_type": "markdown",
   "metadata": {},
   "source": [
    "#### Part A (Code)\n",
    "Compute the mean accuracy and standard errors of each model on both datasets and print the results."
   ]
  },
  {
   "cell_type": "code",
   "execution_count": 2779,
   "metadata": {},
   "outputs": [
    {
     "name": "stdout",
     "output_type": "stream",
     "text": [
      "MMLU Dataset :\n",
      "Model Name  Mean Accuracy  Std Error\n",
      "         X        0.74359   0.004038\n",
      "         Y        0.76154   0.003941\n",
      "         Z        0.65595   0.004393\n",
      "\n",
      "\n",
      "Other Dataset :\n",
      "Model Name  Mean Accuracy  Std Error\n",
      "         X        0.78798   0.006668\n",
      "         Y        0.72094   0.007317\n",
      "         Z        0.67172   0.007660\n"
     ]
    }
   ],
   "source": [
    "#A\n",
    "# mean and standard error for each LM\n",
    "def compute_mean_and_std(df):\n",
    "    mean_accuracy = df.groupby('model_name')['correct'].mean()\n",
    "    standard_error = df.groupby('model_name')['correct'].sem()\n",
    "    return mean_accuracy, standard_error\n",
    "\n",
    "# mean and standard error for mmlu and other dataset\n",
    "mmlu_mean, mmlu_std = compute_mean_and_std(df_mmlu)\n",
    "other_mean, other_std = compute_mean_and_std(df_other)\n",
    "\n",
    "# table for mmlu dataset\n",
    "mmlu_table = pd.DataFrame({\n",
    "    'Model Name': mmlu_mean.index,\n",
    "    'Mean Accuracy': mmlu_mean.round(5).values,\n",
    "    'Std Error': mmlu_std.round(7).values\n",
    "})\n",
    "\n",
    "# table for other dataset\n",
    "other_table = pd.DataFrame({\n",
    "    'Model Name': other_mean.index,\n",
    "    'Mean Accuracy': other_mean.round(5).values,\n",
    "    'Std Error': other_std.round(7).values\n",
    "})\n",
    "\n",
    "# print results in table\n",
    "print(\"MMLU Dataset :\")\n",
    "print(mmlu_table.to_string(index=False))\n",
    "\n",
    "print(\"\\n\\nOther Dataset :\")\n",
    "print(other_table.to_string(index=False))"
   ]
  },
  {
   "cell_type": "markdown",
   "metadata": {},
   "source": [
    "##We observe very low standard errors for each LM for each dataset."
   ]
  },
  {
   "cell_type": "markdown",
   "metadata": {},
   "source": [
    "#### Part B (Code)\n",
    "Then, show your results in a bar plot using standard errors with a 95% confidence interval around the mean. Make sure the plot is easy to read and well annotated."
   ]
  },
  {
   "cell_type": "code",
   "execution_count": 2780,
   "metadata": {},
   "outputs": [
    {
     "data": {
      "image/png": "[encoded data removed]",
      "text/plain": [
       "<Figure size 640x480 with 1 Axes>"
      ]
     },
     "metadata": {},
     "output_type": "display_data"
    }
   ],
   "source": [
    "#B\n",
    "# bar plot with error bars with 95% confidence interval\n",
    "models = ['X', 'Y', 'Z']\n",
    "x = np.arange(len(models))\n",
    "bar_width = 0.3\n",
    "\n",
    "# figure and axis\n",
    "fig, ax = plt.subplots()\n",
    "# bar plots for the mmlu dataset and other datasets\n",
    "ax.bar(x - bar_width/2, mmlu_mean, bar_width, yerr = 1.96*mmlu_std/np.sqrt(len(df_mmlu)/3), label = 'mmlu', capsize = 4, color='gold') # also displays error bars, using the formula 1.96*std/sqrt(n)\n",
    "ax.bar(x + bar_width/2, other_mean, bar_width, yerr = 1.96*other_std/np.sqrt(len(df_other)/3), label = 'other', capsize = 4, color='salmon')\n",
    "\n",
    "# show labels, titles and ticks\n",
    "ax.set_title('Comparison of performance of each model for the mmlu and other datasets')\n",
    "ax.set_xlabel('Model')\n",
    "ax.set_ylabel('Mean accuracy')\n",
    "ax.set_xticks(x)\n",
    "ax.grid(axis='y',linestyle='--',alpha=0.7)\n",
    "ax.set_xticklabels(models)\n",
    "ax.legend()\n",
    "\n",
    "# display the confidence intervals\n",
    "for i in range(len(models)):\n",
    "\n",
    "    # use .iloc[] for positional indexing to avoid \"FutureWarning\"\n",
    "    ax.text(x[i] - bar_width/2, mmlu_mean.iloc[i] + mmlu_std.iloc[i] + 0.005, f'{mmlu_mean.iloc[i]:.2f}', ha='center', color='black')\n",
    "    ax.text(x[i] + bar_width/2, other_mean.iloc[i] + other_std.iloc[i] + 0.005, f'{other_mean.iloc[i]:.2f}', ha='center', color='black')\n",
    "\n",
    "# show the plot\n",
    "plt.tight_layout()\n",
    "plt.show()"
   ]
  },
  {
   "cell_type": "markdown",
   "metadata": {},
   "source": [
    "##We observe very low error bars, which is expected from very low standard erros (2.1)."
   ]
  },
  {
   "cell_type": "markdown",
   "metadata": {},
   "source": [
    "#### Part C (Discussion)\n",
    "**(i) Can you say that one of the models is the best?**\n",
    "\n",
    "Not really, we only know that overall Model Z performs poorly compared to Model X and Y but since Model Y has higher performance on the 'mmlu dataset' (with small enough error bars --> does not reach 0.74) than X and Model X has higher performance on the 'other dataset' we can not distinguish which one is better. Although one might argue that Model X has higher performance on average, which could make it the best of the three but further tests should be made in order to confirm this hypothesis.\n",
    "\n",
    "**(ii) Is there anything that seems odd?**\n",
    "\n",
    "Yes, the fact that Model X and Y have such variations on their performance (4-5%) is odd. This would mean that these Models are more fit to answer to specific subjects. For example, Model X performed better on the 'other' dataset compared to the 'mmlu' dataset which means that the 'other' dataset contained fitter subjects for Model X.\n",
    "\n",
    "Also, Model Z seemed to really under-perform compared to the other two Models but does not show any significant change in performance across the two datasets (mmlu and other), maybe indicating that this Model doesn't specialise as much as the other two models."
   ]
  },
  {
   "cell_type": "markdown",
   "metadata": {},
   "source": [
    "### 2.2 (5 pt)\n",
    "\n",
    "Ms. Sakota has assured you that both datasets contain questions of similar difficulty, so, what could be going on here?"
   ]
  },
  {
   "cell_type": "markdown",
   "metadata": {},
   "source": [
    "#### Part A (Code)\n",
    "What is the distribution of correct answers (A, B, C, D) for each dataset? Create a bar chart to visualize this.\n",
    "\n",
    "**hints:**\n",
    "- Keep in mind that df_mmlu and df_other contain the results of all models, i.e., the `question_id` column is duplicated.\n",
    "- Take care to clearly annotate the bar chart, e.g., title, y-label, legend."
   ]
  },
  {
   "cell_type": "code",
   "execution_count": 2781,
   "metadata": {},
   "outputs": [
    {
     "data": {
      "image/png": "[encoded data removed]",
      "text/plain": [
       "<Figure size 640x480 with 1 Axes>"
      ]
     },
     "metadata": {},
     "output_type": "display_data"
    }
   ],
   "source": [
    "# A\n",
    "\n",
    "# count number of correct answers for option 'A', 'B', 'C', 'D' in the mmlu dataset\n",
    "# 'drop_duplicates' makes sures that only one instance per unique 'question_id' is counted\n",
    "# divided by drop_duplicates(subset=['question_id']).shape[0] to get the proportions\n",
    "correct_answers_A_mmlu = len(df_mmlu.loc[df_mmlu['answer']=='A'].drop_duplicates(subset=['question_id']))*100/df_mmlu.drop_duplicates(subset=['question_id']).shape[0]\n",
    "correct_answers_B_mmlu = len(df_mmlu.loc[df_mmlu['answer']=='B'].drop_duplicates(subset=['question_id']))*100/df_mmlu.drop_duplicates(subset=['question_id']).shape[0]\n",
    "correct_answers_C_mmlu = len(df_mmlu.loc[df_mmlu['answer']=='C'].drop_duplicates(subset=['question_id']))*100/df_mmlu.drop_duplicates(subset=['question_id']).shape[0]\n",
    "correct_answers_D_mmlu = len(df_mmlu.loc[df_mmlu['answer']=='D'].drop_duplicates(subset=['question_id']))*100/df_mmlu.drop_duplicates(subset=['question_id']).shape[0]\n",
    "\n",
    "# same but for the other dataset\n",
    "correct_answers_A_other = len(df_other.loc[df_other['answer']=='A'].drop_duplicates(subset=['question_id']))*100/df_other.drop_duplicates(subset=['question_id']).shape[0]\n",
    "correct_answers_B_other = len(df_other.loc[df_other['answer']=='B'].drop_duplicates(subset=['question_id']))*100/df_other.drop_duplicates(subset=['question_id']).shape[0]\n",
    "correct_answers_C_other = len(df_other.loc[df_other['answer']=='C'].drop_duplicates(subset=['question_id']))*100/df_other.drop_duplicates(subset=['question_id']).shape[0]\n",
    "correct_answers_D_other = len(df_other.loc[df_other['answer']=='D'].drop_duplicates(subset=['question_id']))*100/df_other.drop_duplicates(subset=['question_id']).shape[0]\n",
    "\n",
    "# store the counts of correct answers for mmlu and other dataset in a list\n",
    "correct_answers_mmlu = [correct_answers_A_mmlu, correct_answers_B_mmlu, correct_answers_C_mmlu, correct_answers_D_mmlu]\n",
    "correct_answers_other = [correct_answers_A_other, correct_answers_B_other, correct_answers_C_other, correct_answers_D_other]\n",
    "\n",
    "categories = ['A', 'B', 'C', 'D']\n",
    "bar_width = 0.35\n",
    "\n",
    "# set up the bar chart\n",
    "fig, ax = plt.subplots()\n",
    "\n",
    "# bar positions\n",
    "r1 = range(len(categories))\n",
    "r2 = [x + bar_width for x in r1]\n",
    "\n",
    "# plotting both MMLU and Other sets\n",
    "bars1 = ax.bar(r1, correct_answers_mmlu, color='gold', width=bar_width, label='mmlu')\n",
    "bars2 = ax.bar(r2, correct_answers_other, color='salmon', width=bar_width, label='other')\n",
    "\n",
    "# labels and title\n",
    "ax.set_xlabel('Answer choices')\n",
    "ax.set_ylabel('Number of correct answers [%]')\n",
    "ax.set_title('Distribution of correct answers by answer choice for each dataset')\n",
    "ax.set_xticks([r + bar_width/2 for r in r1])\n",
    "ax.grid(axis='y',linestyle='--',alpha=0.7)\n",
    "ax.set_xticklabels(categories)\n",
    "ax.legend()\n",
    "\n",
    "# show plot\n",
    "plt.tight_layout()\n",
    "plt.show()"
   ]
  },
  {
   "cell_type": "markdown",
   "metadata": {},
   "source": [
    "#### Part B (Code & Discussion)\n",
    "Perform a chi-square test at $\\alpha = 0.05$, of independence to determine if there's a significant difference in the distribution of correct answers between the two datasets. \n",
    "\n",
    "**hint:**\n",
    "- clearly state the null hypothesis and alternative hypothesis\n",
    "- use the `chi2_contingency` function from `scipy.stats`\n",
    "- format your results from answer (A) as a 2D array"
   ]
  },
  {
   "cell_type": "code",
   "execution_count": 2782,
   "metadata": {},
   "outputs": [
    {
     "name": "stdout",
     "output_type": "stream",
     "text": [
      "p-value =  4.270849602795191e-136\n"
     ]
    }
   ],
   "source": [
    "#B\n",
    "\n",
    "# to do the dataframe below\n",
    "correct_answers_A_mmlu = len(df_mmlu.loc[df_mmlu['answer']=='A'].drop_duplicates(subset=['question_id']))\n",
    "correct_answers_B_mmlu = len(df_mmlu.loc[df_mmlu['answer']=='B'].drop_duplicates(subset=['question_id']))\n",
    "correct_answers_C_mmlu = len(df_mmlu.loc[df_mmlu['answer']=='C'].drop_duplicates(subset=['question_id']))\n",
    "correct_answers_D_mmlu = len(df_mmlu.loc[df_mmlu['answer']=='D'].drop_duplicates(subset=['question_id']))\n",
    "correct_answers_A_other = len(df_other.loc[df_other['answer']=='A'].drop_duplicates(subset=['question_id']))\n",
    "correct_answers_B_other = len(df_other.loc[df_other['answer']=='B'].drop_duplicates(subset=['question_id']))\n",
    "correct_answers_C_other = len(df_other.loc[df_other['answer']=='C'].drop_duplicates(subset=['question_id']))\n",
    "correct_answers_D_other = len(df_other.loc[df_other['answer']=='D'].drop_duplicates(subset=['question_id']))\n",
    "\n",
    "# combine results in one dataframe for the two datasets\n",
    "results_df_combined = pd.DataFrame({\n",
    "    'Dataset': ['A', 'B', 'C', 'D'] * 2,\n",
    "    'Distribution': [correct_answers_A_mmlu, correct_answers_B_mmlu, correct_answers_C_mmlu, correct_answers_D_mmlu, correct_answers_A_other, correct_answers_B_other, correct_answers_C_other, correct_answers_D_other],\n",
    "    'Source': ['mmlu'] * 4 + ['other'] * 4\n",
    "})\n",
    "\n",
    "from scipy.stats import chi2_contingency\n",
    "\n",
    "#chi2 test of the distribtuion of correct answers between the two datasets\n",
    "array_dist = np.array([results_df_combined['Distribution'].values[:4], results_df_combined['Distribution'].values[-4:]])\n",
    "res = chi2_contingency(array_dist)\n",
    "print('p-value = ', res.pvalue)"
   ]
  },
  {
   "cell_type": "markdown",
   "metadata": {},
   "source": [
    "**What do you conclude?**\n",
    "\n",
    "- Null hypothesis : the distribution of correct answers between each dataset is the same \n",
    "- ⁠Alternative hypothesis : the distribution of corr. answers are different between each dataset\n",
    "\n",
    "Here, as the pvalue (~4.27E-136) is smaller than 0.05, we reject the null hypothesis. The very small p-value means that the distribution can't be the same between the two dataset."
   ]
  },
  {
   "cell_type": "markdown",
   "metadata": {},
   "source": [
    "### 2.3 (7 pt)\n",
    "\n",
    "Let's dive in deeper:"
   ]
  },
  {
   "cell_type": "markdown",
   "metadata": {},
   "source": [
    "#### Part A (Code)\n",
    "What is language model X's mean accuracy conditioned on the four answer options for each dataset?"
   ]
  },
  {
   "cell_type": "code",
   "execution_count": 2783,
   "metadata": {},
   "outputs": [
    {
     "name": "stdout",
     "output_type": "stream",
     "text": [
      "MMLU dataset:\n",
      "A =  0.973\n",
      "B =  0.799\n",
      "C =  0.708\n",
      "D =  0.634\n",
      "\n",
      "\n",
      "Others dataset:\n",
      "A =  0.974\n",
      "B =  0.806\n",
      "C =  0.676\n",
      "D =  0.604\n"
     ]
    }
   ],
   "source": [
    "#A\n",
    "# create a new df panda with model X's answers for each dataset\n",
    "model_X_mmlu = df_mmlu.loc[df_mmlu['model_name']=='X']\n",
    "model_X_other = df_other.loc[df_other['model_name']=='X']\n",
    "\n",
    "# for dataset 'mmlu', print the mean accuracies conditioned on the four answer options \n",
    "print('MMLU dataset:')\n",
    "for answer in ['A', 'B', 'C', 'D']:\n",
    "    model_X_mmlu_answer = model_X_mmlu.loc[model_X_mmlu['answer'] == answer]\n",
    "    true_count = model_X_mmlu_answer['correct'].sum() \n",
    "    print(f'{answer} = ',round(true_count / len(model_X_mmlu_answer), 3))\n",
    "\n",
    "# for dataset 'other', print the mean accuracies conditioned on the four answer options \n",
    "print('\\n\\nOthers dataset:')\n",
    "for answer in ['A', 'B', 'C', 'D']:\n",
    "    model_X_other_answer = model_X_other.loc[model_X_other['answer'] == answer]\n",
    "    true_count = model_X_other_answer['correct'].sum()\n",
    "    print(f'{answer} = ',round(true_count / len(model_X_other_answer), 3))\n"
   ]
  },
  {
   "cell_type": "markdown",
   "metadata": {},
   "source": [
    "#### Part B (Code)\n",
    "Compare LM X's performance when the correct answer is \"A\" between the two datasets. Use a T-test with CI = 0.95. What do you conclude?"
   ]
  },
  {
   "cell_type": "code",
   "execution_count": 2784,
   "metadata": {},
   "outputs": [
    {
     "name": "stdout",
     "output_type": "stream",
     "text": [
      "p-value : 0.8332\n",
      "Fail to reject the null hypothesis.\n",
      "\n",
      "As we dont reject the null hypothesis, we can not say that the two samples have different mean, \n",
      "so there is no particular differences in the performance of the model X between the two dataset\n"
     ]
    }
   ],
   "source": [
    "#B\n",
    "# new panda dfs for each dataset where only the rows where the answer is A remains.\n",
    "model_X_mmlu_answer_A = model_X_mmlu.loc[model_X_mmlu['answer']=='A']\n",
    "model_X_other_answer_A = model_X_other.loc[model_X_other['answer'] == 'A']\n",
    "\n",
    "# T-test - null hypothesis : two independent samples have identical average values between the two datasets, for rows with answer== A\n",
    "t_statistics_correct_answer_A, p_value_correct_answer_A = ttest_ind(model_X_mmlu_answer_A['correct'], model_X_other_answer_A['correct'])\n",
    "\n",
    "# printing the result of the T-test using the p-value\n",
    "print('p-value : ' + str(round(p_value_correct_answer_A, 4)))\n",
    "if p_value_correct_answer_A < 0.05:\n",
    "    conclusion = \"Reject the null hypothesis.\\n\"\n",
    "    print(conclusion)\n",
    "else:\n",
    "    conclusion = \"Fail to reject the null hypothesis.\\n\"\n",
    "    print(conclusion)\n",
    "    print('As we dont reject the null hypothesis, we can not say that the two samples have different mean, \\nso there is no particular differences in the performance of the model X between the two dataset')\n",
    "    \n"
   ]
  },
  {
   "cell_type": "markdown",
   "metadata": {},
   "source": [
    "#### Part C (Code)\n",
    "Compare LM X's performance when the correct answer is \"A\" vs. \"C or D\" for each dataset. Use a T-test with CI = 0.95. What do you conclude?"
   ]
  },
  {
   "cell_type": "code",
   "execution_count": 2785,
   "metadata": {},
   "outputs": [
    {
     "name": "stdout",
     "output_type": "stream",
     "text": [
      "MMLU dataset p-value : 5.334906497224946e-139\n",
      "Reject the null hypothesis in df_mmlu: There is a significant difference in performance.\n",
      "\n",
      "Other dataset p-value : 5.900859805611251e-96\n",
      "Reject the null hypothesis in df_other: There is a significant difference in performance.\n"
     ]
    }
   ],
   "source": [
    "#C\n",
    "# new panda dfs for each dataset where only the rows where the answer is C or D remains.\n",
    "model_X_mmlu_answer_C_D = model_X_mmlu[(model_X_mmlu['answer'].isin(['C', 'D']))]\n",
    "model_X_other_answer_C_D = model_X_other.loc[model_X_other['answer'].isin(['C', 'D'])]\n",
    "\n",
    "# perform a T-test, for dataset mmlu, between correct answers A and correct answers C or D\n",
    "t_statistics_correct_answer_A_vs_C_or_D, p_value_correct_answer_A_vs_C_or_D = ttest_ind(model_X_mmlu_answer_A['correct'], model_X_mmlu_answer_C_D['correct'])\n",
    "print('MMLU dataset p-value : ' + str(p_value_correct_answer_A_vs_C_or_D))\n",
    "\n",
    "if p_value_correct_answer_A_vs_C_or_D < 0.05:\n",
    "    conclusion = \"Reject the null hypothesis in df_mmlu: There is a significant difference in performance.\\n\"\n",
    "else:\n",
    "    conclusion = \"Fail to reject the null hypothesis in df_MMLU: No significant difference in performance.\\n\"\n",
    "\n",
    "print(conclusion)\n",
    "\n",
    "# perform a T-test, for dataset others, between correct answers A and correct answers C or D\n",
    "t_statistics_correct_answer_A_vs_C_or_D, p_value_correct_answer_A_vs_C_or_D = ttest_ind(model_X_other_answer_A['correct'], model_X_other_answer_C_D['correct'])\n",
    "print('Other dataset p-value : ' + str(p_value_correct_answer_A_vs_C_or_D))\n",
    "\n",
    "if p_value_correct_answer_A_vs_C_or_D < 0.05:\n",
    "    conclusion = \"Reject the null hypothesis in df_other: There is a significant difference in performance.\"\n",
    "else:\n",
    "    conclusion = \"Fail to reject the null hypothesis in df_other: No significant difference in performance.\"\n",
    "print(conclusion)"
   ]
  },
  {
   "cell_type": "markdown",
   "metadata": {},
   "source": [
    "We reject the null hypothesis that is that the means of correct answer when the answer is A is the same that when the answer is C or D. We reject it for the both dataset. These results tells us that the difference in accuracy, calculated in Part A, when the correct answer is A and C or D, is not likely due to hazard. The model is necessarly biased."
   ]
  },
  {
   "cell_type": "markdown",
   "metadata": {},
   "source": [
    "### 2.4 (2 pt)\n",
    "\n",
    "What an intriguing finding! "
   ]
  },
  {
   "cell_type": "markdown",
   "metadata": {},
   "source": [
    "#### Part A (Code)\n",
    "Print the mean accuracies conditioned on the correct answer for all LMs for each dataset."
   ]
  },
  {
   "cell_type": "code",
   "execution_count": 2786,
   "metadata": {},
   "outputs": [
    {
     "name": "stdout",
     "output_type": "stream",
     "text": [
      "Mean accuracies for all LMS for mmlu dataframe\n",
      "0.7465\n",
      "0.7095\n",
      "0.7035\n",
      "0.733\n",
      "\n",
      "Mean accuracies for all LMs for other dataframe\n",
      "0.76\n",
      "0.7127\n",
      "0.7006\n",
      "0.7337\n"
     ]
    },
    {
     "data": {
      "image/png": "[encoded data removed]",
      "text/plain": [
       "<Figure size 1800x500 with 3 Axes>"
      ]
     },
     "metadata": {},
     "output_type": "display_data"
    }
   ],
   "source": [
    "#A\n",
    "\n",
    "## PRINT accuracies for ALL LMs for each dataset\n",
    "\n",
    "answers = ['A', 'B', 'C', 'D']\n",
    "\n",
    "print('Mean accuracies for all LMS for mmlu dataframe')\n",
    "#print, for mmlu dataset, the accuracy on the correct answer for all LM for each dataset\n",
    "for answer in answers:\n",
    "    answer_mmlu = df_mmlu.loc[df_mmlu['answer'] == answer]\n",
    "    print(round(answer_mmlu['correct'].sum() / len(answer_mmlu), 4))\n",
    "\n",
    "print('\\nMean accuracies for all LMs for other dataframe')\n",
    "#print, for other dataset, the accuracy on the correct answer for all LM for each dataset\n",
    "for answer in answers:\n",
    "    answer_other = df_other.loc[df_other['answer'] == answer]\n",
    "    print(round(answer_other['correct'].sum() / len(answer_other), 4))\n",
    "\n",
    "\n",
    "\n",
    "## PLOT accuracies for EACH LMs for each dataset for more insight and to confirm our hypothesis\n",
    "\n",
    "# list of all the model options\n",
    "models = ['X', 'Y', 'Z']\n",
    "\n",
    "# figure with 3 subplots for better visualisation side by side\n",
    "fig, axes = plt.subplots(1, 3, figsize=(18, 5), sharey=True)\n",
    "\n",
    "# loop through each model to create the subplots\n",
    "for i, model in enumerate(models):\n",
    "    # filter data for the current model\n",
    "    model_mmlu = df_mmlu.loc[df_mmlu['model_name'] == model]\n",
    "    model_other = df_other.loc[df_other['model_name'] == model]\n",
    "    \n",
    "    # compute mean accuracies and standard deviations to have error bars\n",
    "    mean_accuracies_mmlu = []\n",
    "    mean_accuracies_other = []\n",
    "    errors_mmlu = []\n",
    "    errors_other = []\n",
    "\n",
    "    for answer in answers:\n",
    "        # mmlu dataset\n",
    "        answer_mmlu = model_mmlu.loc[model_mmlu['answer'] == answer]\n",
    "        acc_mmlu = answer_mmlu['correct'].sum() / len(answer_mmlu)\n",
    "        mean_accuracies_mmlu.append(acc_mmlu)\n",
    "        errors_mmlu.append(np.std(answer_mmlu['correct']) / np.sqrt(len(answer_mmlu)))  # standard erors computation\n",
    "        \n",
    "        # other dataset\n",
    "        answer_other = model_other.loc[model_other['answer'] == answer]\n",
    "        acc_other = answer_other['correct'].sum() / len(answer_other)\n",
    "        mean_accuracies_other.append(acc_other)\n",
    "        errors_other.append(np.std(answer_other['correct']) / np.sqrt(len(answer_other)))  # standard erors computation\n",
    "\n",
    "    # bar adjustments\n",
    "    r1 = np.arange(len(answers))\n",
    "    r2 = [i + bar_width for i in r1]\n",
    "    bar_width = 0.35\n",
    "\n",
    "    # plot bars for mnmlu and other dataset\n",
    "    axes[i].bar(r1, mean_accuracies_mmlu, yerr=errors_mmlu, color='gold', width=bar_width, label='MMLU', capsize=2)\n",
    "    axes[i].bar(r2, mean_accuracies_other, yerr=errors_other, color='salmon', width=bar_width, label='Other', capsize=2)\n",
    "\n",
    "    # display labels and titles\n",
    "    axes[i].set_xlabel('Answer choices', fontsize=9)\n",
    "    axes[i].set_title(f'Mean accuracies for LM {model}', fontsize=12)\n",
    "    axes[i].set_xticks([i + bar_width / 2 for i in r1])\n",
    "    axes[i].set_xticklabels(answers)\n",
    "    axes[i].grid(axis='y',linestyle='--',alpha=0.7)\n",
    "    axes[i].set_ylim(0, 1)\n",
    "    axes[i].set_ylabel('Mean accuracy', fontsize=9)\n",
    "    axes[i].legend()\n",
    "\n",
    "# show the 3 plots\n",
    "plt.tight_layout()\n",
    "plt.show()\n"
   ]
  },
  {
   "cell_type": "markdown",
   "metadata": {},
   "source": [
    "#### Part B (Discussion)\n",
    "\n",
    "These results are interesting because in Part A, when we compute the accuracy for model X, we see a clear difference of performance depending on the correct answer. But now, with all LMs combined, we observe that the accuracies are very similar, independently of the correct answer. It means that the other model Y and Z are also biased, and in a way that it equilibrates the total accuracies for all LMs conditioned on the four correct answer. \n",
    "\n",
    "A way to confirm this hypothesis was to plot the 3 graphs above that is the accuracy conditioned on the correct answer, for **each** LM. Indeed we notice a skewed distribution for the accuracy of the model X. We observe that the Y model distribution is skewed in the opposite way, and that equilibrates the accuracy for all LM. The Z model doesn't change much the equilibrium.  "
   ]
  },
  {
   "cell_type": "markdown",
   "metadata": {},
   "source": [
    "### 2.5 (2 pt)\n",
    "\n",
    "Concerned with your findings so far, you quickly consult with Ms. Sakota. After thinking it over, Ms. Sakota concludes that more tests are needed. She orders a second round of MMLU results. However, the clever Ms. Sakota thinks of the following twist: while keeping questions fixed, she randomly permutes the position of the correct answer. The new results can be found in the folder `data/task_2_5/`:\n",
    "```\n",
    "task_2_5/\n",
    "│\n",
    "└── lm_scores_mmlu_shuffle.csv\n",
    "```\n",
    "\n",
    "**Why would Ms. Sakota do this?**\n",
    "\n",
    "During training LMs might have learned specific patterns instead of truly understanding the context of the questions. Shuffling could tell if MLs have a deep understanding of the questions and the proposed answers or if they rely on those specific patterns learned during training."
   ]
  },
  {
   "cell_type": "markdown",
   "metadata": {},
   "source": [
    "**We saw that the LM choices are not independent (A vs C,D), so changing the position of the correct answer for some questions should impact the LM's accuracy. If it does, it confirms our previous discoveries...**"
   ]
  },
  {
   "cell_type": "markdown",
   "metadata": {},
   "source": [
    "### 2.6 (4 pt)\n",
    "\n",
    "Increasingly sceptical of the language models' performance, you read up on proper testing practices. You stumble upon the concept of [test-rested stability](https://en.wikipedia.org/wiki/Repeatability), which roughtly states that:\n",
    "\n",
    "\"_Measurements taken by a single person or instrument on the same item, under the same conditions, and in a short period of time, should have the same results._\"\n",
    "\n",
    "In our case, we would assume an LM would have the same performance on a given question regardless of the correct answer position. One way of testing this is by using the following metric:\n",
    "\n",
    "$$\\text{test-retest metric} = \\frac{1}{N}\\sum_{i=1}^N \\frac{1}{M}\\sum_{j=1}^M c^i_0 c_j^i,$$\n",
    "\n",
    "where $c^i_0 \\in \\{0, 1\\}$ indicates whether the model answers the $i^{\\text{th}}$ question correctly (1 if correct, 0 if incorrect). $c_j^i$ indicates whether the model answers the $i^{\\text{th}}$ question correctly in the $j^{\\text{th}}$ shuffled version of the answer label content. Finally, $M$ is the total number of shuffles and $N$ is the dataset size.\n",
    "\n",
    "Task: compute the test-retest metric for each language model using the original `lm_scores_mmlu.csv` file and the new `lm_scores_mmlu_shuffle.csv` file. Using a bar plot, visualize your results by comparing the accuracy of the original `lm_scores_mmlu.csv` and the test-retest scores.\n",
    "\n",
    "**hints**\n",
    "- what is $M$ in our case?\n",
    "\n",
    "(bonus: no points, but so much sweet, sweet knowledge - check out [the following article](https://arxiv.org/pdf/2406.19470v1))"
   ]
  },
  {
   "cell_type": "code",
   "execution_count": 2787,
   "metadata": {},
   "outputs": [
    {
     "name": "stdout",
     "output_type": "stream",
     "text": [
      "Accuracy of X : \n",
      "Before shuffle: 0.7436\n",
      "After shuffle: 0.7831 \n",
      "\n",
      "Accuracy of Y : \n",
      "Before shuffle: 0.7615\n",
      "After shuffle: 0.7403 \n",
      "\n",
      "Accuracy of Z : \n",
      "Before shuffle: 0.656\n",
      "After shuffle: 0.666 \n",
      "\n",
      "Test-retest metric for : X = 0.588, Y = 0.572, Z = 0.442 \n",
      "\n",
      "If ci0 and cij are the same (shuffle has no impact on response), the test-restest metric should give the accuracy of the LMs.\n",
      "Here for all LMs, tests < accuracy, so shuffle really has an impact.\n",
      "We also observe that the shuffle doesnt affect the general accuracies, it means the models correct and wrong answers changes equivalently. The model keeps the same performance.\n"
     ]
    },
    {
     "data": {
      "image/png": "[encoded data removed]",
      "text/plain": [
       "<Figure size 800x500 with 1 Axes>"
      ]
     },
     "metadata": {},
     "output_type": "display_data"
    }
   ],
   "source": [
    "df_mmlu_shuffle = pd.read_csv('task_2_5/lm_scores_mmlu_shuffle.csv')\n",
    "\n",
    "# one shuffled version\n",
    "M = 1\n",
    "# X\n",
    "# creating boolean arrays for the model X and the column 'correct', for both shuffled and unshuffled dataset\n",
    "X_1_0 = np.array(df_mmlu[df_mmlu['model_name'] == 'X']['correct'].astype(int)) \n",
    "X_1_0_shuffle = np.array(df_mmlu_shuffle[df_mmlu['model_name'] == 'X']['correct'].astype(int))\n",
    "N = len(X_1_0)\n",
    "test_retest_X = 1/N*np.sum(X_1_0*X_1_0_shuffle)\n",
    "print('Accuracy of X : ')\n",
    "print('Before shuffle:',round(sum(X_1_0)/N,4))\n",
    "print('After shuffle:',round(sum(X_1_0_shuffle/N),4),'\\n')\n",
    "\n",
    "\n",
    "# Y\n",
    "# creating boolean arrays for the model Y and the column 'correct', for both shuffled and unshuffled dataset\n",
    "Y_1_0 = np.array(df_mmlu[df_mmlu['model_name'] == 'Y']['correct'].astype(int)) \n",
    "Y_1_0_shuffle = np.array(df_mmlu_shuffle[df_mmlu['model_name'] == 'Y']['correct'].astype(int))\n",
    "N = len(Y_1_0)\n",
    "test_retest_Y = 1/N*np.sum(Y_1_0*Y_1_0_shuffle)\n",
    "print('Accuracy of Y : ')\n",
    "print('Before shuffle:',round(sum(Y_1_0)/N,4))\n",
    "print('After shuffle:',round(sum(Y_1_0_shuffle/N),4),'\\n')\n",
    "\n",
    "# Z\n",
    "# creating boolean arrays for the model Z and the column 'correct', for both shuffled and unshuffled dataset\n",
    "Z_1_0 = np.array(df_mmlu[df_mmlu['model_name'] == 'Z']['correct'].astype(int)) \n",
    "Z_1_0_shuffle = np.array(df_mmlu_shuffle[df_mmlu['model_name'] == 'Z']['correct'].astype(int))\n",
    "N = len(Z_1_0)\n",
    "test_retest_Z = 1/N*np.sum(Z_1_0*Z_1_0_shuffle)\n",
    "print('Accuracy of Z : ')\n",
    "print('Before shuffle:',round(sum(Z_1_0)/N,4))\n",
    "print('After shuffle:',round(sum(Z_1_0_shuffle/N),4),'\\n')\n",
    "\n",
    "\n",
    "# printing the results\n",
    "print(\"Test-retest metric for : X = %.3f, Y = %.3f, Z = %.3f\" % (test_retest_X,test_retest_Y,test_retest_Z),'\\n')\n",
    "print('If ci0 and cij are the same (shuffle has no impact on response), the test-restest metric should give the accuracy of the LMs.')\n",
    "print('Here for all LMs, tests < accuracy, so shuffle really has an impact.\\nWe also observe that the shuffle doesnt affect the general accuracies, it means the models correct and wrong answers changes equivalently. The model keeps the same performance.')\n",
    "\n",
    "# collect accuracies before shuffle for each model\n",
    "accuracy_X = sum(X_1_0) / N\n",
    "accuracy_Y = sum(Y_1_0) / N\n",
    "accuracy_Z = sum(Z_1_0) / N\n",
    "\n",
    "# update the models and their corresponding metrics\n",
    "models = ['X', 'Y', 'Z']\n",
    "test_retest_metrics = [test_retest_X, test_retest_Y, test_retest_Z]\n",
    "accuracies = [accuracy_X, accuracy_Y, accuracy_Z]\n",
    "\n",
    "# adjust bar positions\n",
    "plt.figure(figsize=(8, 5))\n",
    "r1 = np.arange(len(models))\n",
    "bar_width = 0.35\n",
    "\n",
    "# bar plot for test-retest metrics and accuracies\n",
    "plt.bar(r1 + bar_width, accuracies, label='MMLU Accuracy', color='gold', width=bar_width)\n",
    "plt.bar(r1, test_retest_metrics, label='Test-retest metric',color='c', width=bar_width)\n",
    "\n",
    "# display labels and titles\n",
    "plt.title('Comparison of Mmlu accuracies with Test-retest metrics for the three models', fontsize=12)\n",
    "plt.ylabel('Proportion', fontsize=12)\n",
    "plt.xlabel('Model', fontsize=12)\n",
    "plt.xticks(r1 + bar_width / 2, models)\n",
    "plt.grid(axis='y',linestyle='--',alpha=0.7)\n",
    "plt.ylim(0, 1)\n",
    "\n",
    "# show plot\n",
    "plt.legend()\n",
    "plt.tight_layout()\n",
    "plt.show()\n"
   ]
  },
  {
   "cell_type": "markdown",
   "metadata": {},
   "source": [
    "### 2.7 (2 pt)"
   ]
  },
  {
   "cell_type": "markdown",
   "metadata": {},
   "source": [
    "#### Part A (Code)\n",
    "Using the unshuffled data: For each LM, print the distribution of the answers they give as well as the accuracy conditioned on the answer they give."
   ]
  },
  {
   "cell_type": "code",
   "execution_count": 2788,
   "metadata": {},
   "outputs": [
    {
     "data": {
      "text/html": [
       "<div>\n",
       "<style scoped>\n",
       "    .dataframe tbody tr th:only-of-type {\n",
       "        vertical-align: middle;\n",
       "    }\n",
       "\n",
       "    .dataframe tbody tr th {\n",
       "        vertical-align: top;\n",
       "    }\n",
       "\n",
       "    .dataframe thead th {\n",
       "        text-align: right;\n",
       "    }\n",
       "</style>\n",
       "<table border=\"1\" class=\"dataframe\">\n",
       "  <thead>\n",
       "    <tr style=\"text-align: right;\">\n",
       "      <th></th>\n",
       "      <th>X_dist</th>\n",
       "      <th>Y_dist</th>\n",
       "      <th>Z_dist</th>\n",
       "      <th>X_acc</th>\n",
       "      <th>Y_acc</th>\n",
       "      <th>Z_acc</th>\n",
       "    </tr>\n",
       "    <tr>\n",
       "      <th>result</th>\n",
       "      <th></th>\n",
       "      <th></th>\n",
       "      <th></th>\n",
       "      <th></th>\n",
       "      <th></th>\n",
       "      <th></th>\n",
       "    </tr>\n",
       "  </thead>\n",
       "  <tbody>\n",
       "    <tr>\n",
       "      <th>A</th>\n",
       "      <td>4259</td>\n",
       "      <td>1072</td>\n",
       "      <td>2176</td>\n",
       "      <td>0.367927</td>\n",
       "      <td>0.937500</td>\n",
       "      <td>0.476103</td>\n",
       "    </tr>\n",
       "    <tr>\n",
       "      <th>B</th>\n",
       "      <td>2659</td>\n",
       "      <td>2256</td>\n",
       "      <td>2885</td>\n",
       "      <td>0.884543</td>\n",
       "      <td>0.897606</td>\n",
       "      <td>0.654073</td>\n",
       "    </tr>\n",
       "    <tr>\n",
       "      <th>C</th>\n",
       "      <td>2409</td>\n",
       "      <td>3015</td>\n",
       "      <td>3237</td>\n",
       "      <td>1.000000</td>\n",
       "      <td>0.827861</td>\n",
       "      <td>0.703429</td>\n",
       "    </tr>\n",
       "    <tr>\n",
       "      <th>D</th>\n",
       "      <td>2369</td>\n",
       "      <td>5353</td>\n",
       "      <td>3398</td>\n",
       "      <td>1.000000</td>\n",
       "      <td>0.631608</td>\n",
       "      <td>0.727487</td>\n",
       "    </tr>\n",
       "  </tbody>\n",
       "</table>\n",
       "</div>"
      ],
      "text/plain": [
       "        X_dist  Y_dist  Z_dist     X_acc     Y_acc     Z_acc\n",
       "result                                                      \n",
       "A         4259    1072    2176  0.367927  0.937500  0.476103\n",
       "B         2659    2256    2885  0.884543  0.897606  0.654073\n",
       "C         2409    3015    3237  1.000000  0.827861  0.703429\n",
       "D         2369    5353    3398  1.000000  0.631608  0.727487"
      ]
     },
     "execution_count": 2788,
     "metadata": {},
     "output_type": "execute_result"
    }
   ],
   "source": [
    "#A\n",
    "# accuracies for models X,Y and Z\n",
    "X = df_mmlu[df_mmlu['model_name']== 'X'].groupby('result')['correct'].mean()\n",
    "Y = df_mmlu[df_mmlu['model_name']== 'Y'].groupby('result')['correct'].mean()\n",
    "Z = df_mmlu[df_mmlu['model_name']== 'Z'].groupby('result')['correct'].mean()\n",
    "data_acc = pd.DataFrame({'X_acc':X,'Y_acc':Y,'Z_acc':Z})\n",
    "\n",
    "# distribution for models X,Y and Z\n",
    "dist_X = df_mmlu[df_mmlu['model_name']== 'X']['result'].value_counts()\n",
    "dist_Y = df_mmlu[df_mmlu['model_name']== 'Y']['result'].value_counts()\n",
    "dist_Z = df_mmlu[df_mmlu['model_name']== 'Z']['result'].value_counts()\n",
    "data_dist = pd.DataFrame({'X_dist':dist_X,'Y_dist':dist_Y,'Z_dist':dist_Z})\n",
    "\n",
    "# merge the two dataframes for better visualizing\n",
    "data_dist_acc = pd.merge(data_dist,data_acc,left_index=True,right_index=True)\n",
    "\n",
    "data_dist_acc.head()"
   ]
  },
  {
   "cell_type": "markdown",
   "metadata": {},
   "source": [
    "#### Part B (Discussion)\n",
    "**Describe what you observe**\n",
    "\n",
    "We observe that the accuracies and the distributions are not equal at all for the different answer options. For model X, it answers A most of the time but its accuracy is low (36%),while it has perfect accuracies for answer C and D,which it doesn't choose a lot. For model Y, the accuracy is the worst for the most chosen option too (D). Model Z seems more equilibrated on his options choice, and for the accuracies too. This behavior let us think that the models (X and Y at least)are biased on their answers, as they chose more answer A and D (respectively), and this with a poor accuracy.  In 2.3A, we saw that the model X had a great accuracy when the correct answer was A, we understand it now when we see that the model answers a lot A, and answers C,D and B too, only when it's sure that they are the correct answers. Moreover, in 2.2A, we see that the answer A is hardly ever the correct one. So it confirms the accuracy in 2.3A too."
   ]
  },
  {
   "cell_type": "markdown",
   "metadata": {},
   "source": [
    "**[bonus: not scored, but again _that sweet, sweet knowledge_] Could you think of a plausible explanation?**\n",
    "\n",
    "It could be possible that models X and Y have learned to prefer certain types of response. A reason for this could be an unbalance in the training data. Indeed, if the dataset to train the LM had more questions with, let’s say,  ‘A’ or ‘D’ as the correct answer, the LMs could have developed a preference to choose these answers (‘A’ or ‘D’). \n",
    "This could then result in lower accuracy for the LMs. This can be seen on model X which prefers A (4259 > the others ~2500) but whose accuracy is low for this option (0.36 < 0.9-1.0 for others)."
   ]
  },
  {
   "cell_type": "markdown",
   "metadata": {},
   "source": [
    "## Task 3 (16 points): What do Questions and Answers look like for a Language Model?\n",
    "\n",
    "While you feel pretty good about the tests you conducted so far, something still bothers you: what if the language models don't see the data like you do? Suddenly, you receive a phone call from a wise AI sage in the West, _Westoda_:\n",
    "\n",
    "```\n",
    "\"Hmm, correct you are, young padawan, to question how the world is seen by large language models! Simple 'text' it is not, hmm? No, no, no! Characters and words, the way of puny humans, this is not, heh heh heh.\n",
    "\n",
    "'Tokens', they use, yes! Mysterious and powerful, these tokens are. Expand our vocabulary, they do, beyond the simple 'a to Z'. Chunky blocks of text, they become, yes! 'Hello world', a simple phrase it may seem. But to a language model, '[24912, 2375]' it might appear, yes! Confusing, it is, hmm?\n",
    "\n",
    "Wise, it would be, to explore these MMLU data points through the eyes of a language model, you think? Yes, yes! Much to learn, there is. The ways of the tokens, understand you must, if truly comprehend the great LMs, you wish to.\n",
    "Meditate on this, you should. The force of natural language processing, strong it is. But patience, you must have, my young padawan. For only through great study and contemplation, will the mysteries of the tokens reveal themselves to you, they will. Yes, hmmm!\"\n",
    "```\n",
    "\n",
    "Admittingly, Westoda at times speaks in riddles… However, he was explaining a crucial aspect of modern LMs called [Tokenization](https://learn.microsoft.com/en-us/dotnet/ai/conceptual/understanding-tokens):\n",
    "\n",
    "\n",
    "“Tokens are words, character sets, or combinations of words and punctuation that are used by [language models (LMs)] to decompose text into. Tokenization is the first step in training”\n",
    "\n",
    "Instead of characters, LMs process natural language using “tokens”. While this is useful for a number of reasons, it does at times introduce some “unintuitive” behavior…"
   ]
  },
  {
   "cell_type": "code",
   "execution_count": 2789,
   "metadata": {},
   "outputs": [
    {
     "name": "stdout",
     "output_type": "stream",
     "text": [
      "humans see: \"hello world\" --> language models see: [24912, 2375]\n"
     ]
    }
   ],
   "source": [
    "# PROVIDED CODE\n",
    "\n",
    "try:\n",
    "    import tiktoken\n",
    "except ImportError:\n",
    "    print('Installing tiktoken package...')\n",
    "    import pip\n",
    "    pip.main(['install', 'tiktoken'])\n",
    "    import tiktoken\n",
    "\n",
    "def tokenize_text(s):\n",
    "    enc = tiktoken.encoding_for_model('gpt-4o') \n",
    "    tokens = enc.encode(str(s))\n",
    "    return tokens\n",
    "\n",
    "example_string = 'hello world'\n",
    "print(f'humans see: \"{example_string}\" --> language models see: {tokenize_text(example_string)}')"
   ]
  },
  {
   "cell_type": "code",
   "execution_count": 2790,
   "metadata": {},
   "outputs": [],
   "source": [
    "# function to decode tokens back into human-readable text\n",
    "def detokenize_text(tokens):\n",
    "    enc = tiktoken.encoding_for_model('gpt-4o')\n",
    "    text = enc.decode(tokens)\n",
    "    return text"
   ]
  },
  {
   "cell_type": "markdown",
   "metadata": {},
   "source": [
    "### 3.1 (5 pt)\n",
    "\n",
    "Use the provided code in the cell above to \"see the world through the eyes of a language model\":\n",
    "\n",
    "**hint**\n",
    "- There are a _lot_ of tokens, consider using a cutoff point and log scale\n",
    "- For (c), they should sum to 1"
   ]
  },
  {
   "cell_type": "markdown",
   "metadata": {},
   "source": [
    "#### Part A (Code)\n",
    "Tokenize the questions of the original MMLU data provided in task 1: `task_1/mmlu_data/test.csv` and plot the token distribution (the frequency of each token)."
   ]
  },
  {
   "cell_type": "code",
   "execution_count": 2791,
   "metadata": {},
   "outputs": [
    {
     "data": {
      "image/png": "[encoded data removed]",
      "text/plain": [
       "<Figure size 1400x1000 with 1 Axes>"
      ]
     },
     "metadata": {},
     "output_type": "display_data"
    }
   ],
   "source": [
    "# A\n",
    "from collections import Counter as ct\n",
    "\n",
    "# function that take a DataFrame as input and a field and tokenize the content of the column\n",
    "def generate_tocken_distribution(df, fields, top_number=-1):\n",
    "\n",
    "    # if not precised, take all the token for the distribution\n",
    "    if top_number == -1:\n",
    "        top_number = len(df)\n",
    "    \n",
    "    # tokenization of the questions\n",
    "    tokens = []\n",
    "    for field in fields:\n",
    "        for question in df_mmlu[field]:\n",
    "            tokens.extend(tokenize_text(question))\n",
    "    \n",
    "    # create the count mapping : \"token\" -> \"count\" and take only the \"top_number\" token\n",
    "    token_counts = ct(tokens)\n",
    "    top_tokens_count = token_counts.most_common(top_number)\n",
    "    \n",
    "    # generating the distribution\n",
    "    top_tokens = [token for token, _ in top_tokens_count]\n",
    "    frequencies = [freq for _, freq in top_tokens_count]\n",
    "    enc = tiktoken.encoding_for_model('gpt-4o')\n",
    "    decoded_tokens = [enc.decode([token]) for token in top_tokens]\n",
    "    token_distribution = pd.DataFrame({'Token': decoded_tokens, 'Frequency': frequencies})\n",
    "\n",
    "    # return the distribution of the tokens\n",
    "    return token_distribution\n",
    "\n",
    "# function that take a distribution and plot it with a log scale\n",
    "def ploting_distribution(token_distribution):\n",
    "\n",
    "    # define the plot parameters\n",
    "    plt.figure(figsize=(14, 10))\n",
    "    plt.bar(token_distribution['Token'].astype(str), token_distribution['Frequency'], color='skyblue')\n",
    "    plt.title(\"Top \" + str(len(token_distribution['Token'])) + \" detokenized distribution\", fontsize=18)\n",
    "\n",
    "    # manage the axis\n",
    "    plt.xlabel('Tokens', fontsize=14, labelpad=-15)\n",
    "    plt.ylabel('Frequency (Log Scale)', fontsize=14)\n",
    "    plt.yscale('log')\n",
    "    plt.xticks(rotation=90, ha='center')\n",
    "    plt.subplots_adjust(bottom=0.3)\n",
    "    y_ticks = [1000, 10000, 100000]  # Add more tick marks for granularity\n",
    "    plt.yticks(y_ticks, labels=[str(tick) for tick in y_ticks])\n",
    "    \n",
    "    # show the plot\n",
    "    plt.grid(axis='y', linestyle='--', alpha=0.7)\n",
    "    plt.show()\n",
    "\n",
    "# define the parameters\n",
    "top_number = 50 # change this number to see more\n",
    "df_mmlu = pd.read_csv('task_1/mmlu_data/test.csv')\n",
    "\n",
    "# tokenization of the Dataframe with the \"question\" field\n",
    "token_distribution = generate_tocken_distribution(df_mmlu, [\"question\"], top_number)\n",
    "\n",
    "# ploting the distribution\n",
    "ploting_distribution(token_distribution)\n"
   ]
  },
  {
   "cell_type": "markdown",
   "metadata": {},
   "source": [
    "#### Part B (Code)\n",
    "Same as (A), but now for the answers in columns (columns \"A\", \"B\", \"C\", and \"D\")."
   ]
  },
  {
   "cell_type": "code",
   "execution_count": 2792,
   "metadata": {},
   "outputs": [
    {
     "data": {
      "image/png": "[encoded data removed]",
      "text/plain": [
       "<Figure size 1400x1000 with 1 Axes>"
      ]
     },
     "metadata": {},
     "output_type": "display_data"
    }
   ],
   "source": [
    "#B\n",
    "# define the parameters\n",
    "top_number = 50 # change this number to see more\n",
    "df_mmlu = pd.read_csv('task_1/mmlu_data/test.csv')\n",
    "\n",
    "# tokenization of the dataframe with the \"A\", \"B\", \"C\", \"D\" fields\n",
    "token_distribution = generate_tocken_distribution(df_mmlu, [\"A\", \"B\", \"C\", \"D\"], top_number)\n",
    "\n",
    "# ploting the distribution\n",
    "ploting_distribution(token_distribution)"
   ]
  },
  {
   "cell_type": "markdown",
   "metadata": {},
   "source": [
    "#### Part C (Code)\n",
    "Isolate the tokens for the strings \"A\", \"B\", \"C\", and \"D\", then, for their occurances in both questions and answers, print their relative distribution to each other."
   ]
  },
  {
   "cell_type": "code",
   "execution_count": 2793,
   "metadata": {},
   "outputs": [
    {
     "name": "stdout",
     "output_type": "stream",
     "text": [
      "Total occurrances of \"A\" token :  3314\n",
      "Total occurrances of \"B\" token :  252\n",
      "Total occurrances of \"C\" token :  425\n",
      "Total occurrances of \"D\" token :  195\n",
      "\n",
      "Relative distribution of \"A\" token :  0.792\n",
      "Relative distribution of \"B\" token :  0.06\n",
      "Relative distribution of \"C\" token :  0.102\n",
      "Relative distribution of \"C\" token :  0.047\n"
     ]
    }
   ],
   "source": [
    "#C\n",
    "\n",
    "# extract the text data from columns 'A', 'B', 'C', and 'D'\n",
    "text_A = df_mmlu['A']\n",
    "text_B = df_mmlu['B']\n",
    "text_C = df_mmlu['C']\n",
    "text_D = df_mmlu['D']\n",
    "\n",
    "# combine all the text from the answers to one series \n",
    "text_answers = pd.concat([text_A, text_B, text_C, text_D])\n",
    "\n",
    "# empty list to hold tokens from answers\n",
    "tokens_list_answers = []\n",
    "\n",
    "# tokenize each answer and extend the list with tokens \n",
    "for answer in text_answers:\n",
    "    tokens_list_answers.extend(tokenize_text(answer))\n",
    "\n",
    "# count occurrances of each token in the answer text\n",
    "token_counts_answers = ct(tokens_list_answers)\n",
    "\n",
    "# empty list to hold tokens from the questions \n",
    "tokens_list_questions = []\n",
    "\n",
    "# tokenize each question and extend the list with tokens\n",
    "for question in df_mmlu['question']:\n",
    "    tokens_list_questions.extend(tokenize_text(question)) \n",
    "\n",
    "# count occurrances of each token in the question text\n",
    "token_counts = ct(tokens_list_questions)\n",
    "\n",
    "# tokenize characters 'A', 'B', 'C', 'D' \n",
    "A_t = tokenize_text('A') \n",
    "B_t = tokenize_text('B')\n",
    "C_t = tokenize_text('C')\n",
    "D_t = tokenize_text('D') \n",
    "\n",
    "# combine all tokens from questions and answers into one big list\n",
    "all_tokens = tokens_list_questions + tokens_list_answers\n",
    "\n",
    "# counters for occurrances of 'A', 'B', 'C', 'D' tokens\n",
    "A_t_count = 0\n",
    "B_t_count = 0\n",
    "C_t_count = 0\n",
    "D_t_count = 0\n",
    "\n",
    "# loop through all tokens and count occurrences of 'A', 'B', 'C', and 'D'\n",
    "for token in all_tokens:\n",
    "    if token == A_t[0]: # checks if token matches with 'A' token\n",
    "        A_t_count += 1\n",
    "    elif token == B_t[0]: # same for B\n",
    "        B_t_count += 1\n",
    "    elif token == C_t[0]: # same for C\n",
    "        C_t_count +=1\n",
    "    elif token == D_t[0]: # same for D\n",
    "        D_t_count += 1\n",
    "\n",
    "# compute total count of 'A', 'B', 'C', 'D' tokens\n",
    "total_count = A_t_count + B_t_count + C_t_count + D_t_count\n",
    "\n",
    "# display total occurrences of 'A', 'B', 'C', 'D' tokens\n",
    "print('Total occurrances of \"A\" token : ', A_t_count)\n",
    "print('Total occurrances of \"B\" token : ', B_t_count)\n",
    "print('Total occurrances of \"C\" token : ', C_t_count)\n",
    "print('Total occurrances of \"D\" token : ', D_t_count)\n",
    "\n",
    "# display relative distribution of 'A', 'B', 'C', 'D' tokens\n",
    "print('\\nRelative distribution of \"A\" token : ', round(A_t_count/total_count, 3))\n",
    "print('Relative distribution of \"B\" token : ', round(B_t_count/total_count, 3))\n",
    "print('Relative distribution of \"C\" token : ', round(C_t_count/total_count, 3))\n",
    "print('Relative distribution of \"C\" token : ', round(D_t_count/total_count, 3))\n"
   ]
  },
  {
   "cell_type": "code",
   "execution_count": 1,
   "metadata": {},
   "outputs": [
    {
     "ename": "NameError",
     "evalue": "name 'token_counts_answers' is not defined",
     "output_type": "error",
     "traceback": [
      "\u001b[1;31m---------------------------------------------------------------------------\u001b[0m",
      "\u001b[1;31mNameError\u001b[0m                                 Traceback (most recent call last)",
      "Cell \u001b[1;32mIn[1], line 1\u001b[0m\n\u001b[1;32m----> 1\u001b[0m token_counts_answers\n",
      "\u001b[1;31mNameError\u001b[0m: name 'token_counts_answers' is not defined"
     ]
    }
   ],
   "source": [
    "token_counts_answers"
   ]
  },
  {
   "cell_type": "markdown",
   "metadata": {},
   "source": [
    "### 3.2 (3 pt)\n",
    "\n",
    "What if the number of \"A\", \"B\", \"C\", and \"D\" tokens in the question and answer pairs could influence a language model's decisions?"
   ]
  },
  {
   "cell_type": "markdown",
   "metadata": {},
   "source": [
    "#### Part A (Code)\n",
    "For each combined question-answers pair, compute: \n",
    "1. the number of \"A\", \"B\", \"C\", and \"D\" tokens; and\n",
    "2. the total number of tokens.\n",
    "3. then, group by the \"correct\" answer and compute the mean frequency of A, B, C, and D tokens and the total number of tokens. \n",
    "4. finally, print your results"
   ]
  },
  {
   "cell_type": "code",
   "execution_count": 2794,
   "metadata": {},
   "outputs": [
    {
     "data": {
      "text/html": [
       "<div>\n",
       "<style scoped>\n",
       "    .dataframe tbody tr th:only-of-type {\n",
       "        vertical-align: middle;\n",
       "    }\n",
       "\n",
       "    .dataframe tbody tr th {\n",
       "        vertical-align: top;\n",
       "    }\n",
       "\n",
       "    .dataframe thead th {\n",
       "        text-align: right;\n",
       "    }\n",
       "</style>\n",
       "<table border=\"1\" class=\"dataframe\">\n",
       "  <thead>\n",
       "    <tr style=\"text-align: right;\">\n",
       "      <th></th>\n",
       "      <th>Mean A_t frequency,</th>\n",
       "      <th>Mean B_t frequency</th>\n",
       "      <th>Mean C_t frequency</th>\n",
       "      <th>Mean D_t frequency</th>\n",
       "      <th>Mean token count</th>\n",
       "    </tr>\n",
       "  </thead>\n",
       "  <tbody>\n",
       "    <tr>\n",
       "      <th>Correct Answer is A</th>\n",
       "      <td>0.244258</td>\n",
       "      <td>0.019553</td>\n",
       "      <td>0.025450</td>\n",
       "      <td>0.013346</td>\n",
       "      <td>102.283675</td>\n",
       "    </tr>\n",
       "    <tr>\n",
       "      <th>Correct Answer is B</th>\n",
       "      <td>0.231947</td>\n",
       "      <td>0.019642</td>\n",
       "      <td>0.029463</td>\n",
       "      <td>0.012709</td>\n",
       "      <td>97.884749</td>\n",
       "    </tr>\n",
       "    <tr>\n",
       "      <th>Correct Answer is C</th>\n",
       "      <td>0.227527</td>\n",
       "      <td>0.018984</td>\n",
       "      <td>0.034338</td>\n",
       "      <td>0.015355</td>\n",
       "      <td>101.724456</td>\n",
       "    </tr>\n",
       "    <tr>\n",
       "      <th>Correct Answer is D</th>\n",
       "      <td>0.244174</td>\n",
       "      <td>0.014831</td>\n",
       "      <td>0.030985</td>\n",
       "      <td>0.014566</td>\n",
       "      <td>101.277278</td>\n",
       "    </tr>\n",
       "  </tbody>\n",
       "</table>\n",
       "</div>"
      ],
      "text/plain": [
       "                     Mean A_t frequency,  Mean B_t frequency  \\\n",
       "Correct Answer is A             0.244258            0.019553   \n",
       "Correct Answer is B             0.231947            0.019642   \n",
       "Correct Answer is C             0.227527            0.018984   \n",
       "Correct Answer is D             0.244174            0.014831   \n",
       "\n",
       "                     Mean C_t frequency  Mean D_t frequency  Mean token count  \n",
       "Correct Answer is A            0.025450            0.013346        102.283675  \n",
       "Correct Answer is B            0.029463            0.012709         97.884749  \n",
       "Correct Answer is C            0.034338            0.015355        101.724456  \n",
       "Correct Answer is D            0.030985            0.014566        101.277278  "
      ]
     },
     "execution_count": 2794,
     "metadata": {},
     "output_type": "execute_result"
    }
   ],
   "source": [
    "#A\n",
    "\n",
    "# make a new dataframe with only the 'question', 'A', 'B', 'C', and 'D' columns from df_mmlu\n",
    "question_answers_pair = df_mmlu[['question', 'A', 'B', 'C', 'D']]\n",
    "\n",
    "# array to store token counts for A, B, C, D, and the total tokens\n",
    "array_tokens = np.zeros((question_answers_pair.shape[0],5))\n",
    "\n",
    "# itterate on each row (question + answers) of the new dataframe\n",
    "for i in range(question_answers_pair.shape[0]):\n",
    "\n",
    "    # tokenize the question, 'A', 'B', 'C', and 'D' columns\n",
    "    tokens_question_answers_pair = tokenize_text(question_answers_pair.iloc[i].values)\n",
    "\n",
    "    # count the occurrances of tokens 'A', 'B', 'C', 'D' and count the total tokens\n",
    "    for token in tokens_question_answers_pair:\n",
    "        if token == A_t[0]:     # check if token is 'A' and add one to its counter\n",
    "            array_tokens[i,0] += 1\n",
    "        if token == B_t[0]:     # same for B\n",
    "            array_tokens[i,1] += 1\n",
    "        if token == C_t[0]:     # same for C\n",
    "            array_tokens[i,2] += 1\n",
    "        if token == D_t[0]:     # same for D\n",
    "            array_tokens[i,3] += 1\n",
    "\n",
    "        # increment the total token counter by 1\n",
    "        array_tokens[i,4] += 1\n",
    "\n",
    "# create boolean arrays to show which rows have the correct answer as A, B, C, D\n",
    "rows_where_answer_is_A = np.array(df_mmlu['answer']=='A')\n",
    "rows_where_answer_is_B = np.array(df_mmlu['answer']=='B')\n",
    "rows_where_answer_is_C = np.array(df_mmlu['answer']=='C')\n",
    "rows_where_answer_is_D = np.array(df_mmlu['answer']=='D')\n",
    "\n",
    "# select token counts for rows where the correct answer is 'A', 'B', 'C', 'D'\n",
    "array_tokens_answer_A = array_tokens[rows_where_answer_is_A]\n",
    "array_tokens_answer_B = array_tokens[rows_where_answer_is_B]\n",
    "array_tokens_answer_C = array_tokens[rows_where_answer_is_C]\n",
    "array_tokens_answer_D = array_tokens[rows_where_answer_is_D]\n",
    "\n",
    "# compute the token counts for each answer\n",
    "A_token_c = np.sum(array_tokens_answer_A, axis=0) / array_tokens_answer_A.shape[0]\n",
    "B_token_c = np.sum(array_tokens_answer_B, axis=0) / array_tokens_answer_B.shape[0]\n",
    "C_token_c = np.sum(array_tokens_answer_C, axis=0) / array_tokens_answer_C.shape[0]\n",
    "D_token_c = np.sum(array_tokens_answer_D, axis=0) / array_tokens_answer_D.shape[0]\n",
    "\n",
    "# create a new dataframe with the computed values for easier display and understanding\n",
    "# For example the number on first row, first column will be : The average number of tokens ‘A’ in a question-answer pair when the correct answer is A\n",
    "df_token_c = pd.DataFrame([A_token_c, B_token_c, C_token_c, D_token_c],\n",
    "                               columns=['Mean A_t frequency,', 'Mean B_t frequency', 'Mean C_t frequency', 'Mean D_t frequency', 'Mean token count'],\n",
    "                               index=['Correct Answer is A', 'Correct Answer is B', 'Correct Answer is C', 'Correct Answer is D'])\n",
    "\n",
    "# display the new dataframe\n",
    "df_token_c\n"
   ]
  },
  {
   "cell_type": "markdown",
   "metadata": {},
   "source": [
    "#### Part B (Discussion)\n",
    "**What do you think of the hypothesis that the frequency of A, B, C, and D tokens could influence answers?**\n",
    "The table shows that the average frequencies of tokens ‘A’, ‘B’, ‘C’ and ‘D’ vary very little for the different correct answers. We can see : \n",
    "- column 1 : values between ~$0.23$ and $0.24$ (no big change across the correct Answers)\n",
    "- column 2 : values between ~$0.014$ and $0.019$ (little change)\n",
    "- column 3 : values between ~$0.025$ and $0.034$ (also little change)\n",
    "- column 4 : values between ~$0.012$ and $0.015$ (also little change)\n",
    "\n",
    "This means that the influence of token frequency on responses is possible but if it is, it's very minimal. Also very little differences on the mean token count (around ~$100$).\n",
    "Thus, we see the hypothesis is wrong and that there is no clear and strong trend that shows that token frequency affects in a significant manner the probability of a specific response being correct.\n",
    "\n",
    "Also, we can see that 'A' is more frequent (~0.2 for A vs ~0.02 for B,C,D), this is probably due to sentences beginning with the determinant \"A\" like \"A cat is...\" and also the fact that A is a vowel meaning it might be more frequent."
   ]
  },
  {
   "cell_type": "markdown",
   "metadata": {},
   "source": [
    "### 3.3 (4 pt)\n",
    "\n",
    "Three of the most important considerations when deciding between language models are:\n",
    "\n",
    "Quality\n",
    "Costs\n",
    "Speed\n",
    "\n",
    "So far, much of your analysis has focused on quality. However, the government has indicated that they are quite concerned about both the total costs and speed as well. Specifically, it has been brought to their attention that a new `turbo` model has been launched! \n",
    "\n",
    "This model is both cheaper and faster than the models you evaluated so far. However, there is a catch: the context length* is much smaller than that of the other LMS. Namely, it can only process **300** tokens during inference. Meanwhile, the other models can process up to 100K tokens! \n",
    "\n",
    "*_The “context length” refers to the number of tokens that can be given to an LM as input._\n",
    "\n",
    "**hint**:\n",
    "- An LM needs to have both the question and the different answer options in its context"
   ]
  },
  {
   "cell_type": "markdown",
   "metadata": {},
   "source": [
    "#### Part A (Code)\n",
    "**Are there subjects where using the cheaper model might be problematic? I.e., where part of the question and answer(s) might not fit completely in the context?**\n"
   ]
  },
  {
   "cell_type": "code",
   "execution_count": 2795,
   "metadata": {},
   "outputs": [
    {
     "data": {
      "text/html": [
       "<div>\n",
       "<style scoped>\n",
       "    .dataframe tbody tr th:only-of-type {\n",
       "        vertical-align: middle;\n",
       "    }\n",
       "\n",
       "    .dataframe tbody tr th {\n",
       "        vertical-align: top;\n",
       "    }\n",
       "\n",
       "    .dataframe thead th {\n",
       "        text-align: right;\n",
       "    }\n",
       "</style>\n",
       "<table border=\"1\" class=\"dataframe\">\n",
       "  <thead>\n",
       "    <tr style=\"text-align: right;\">\n",
       "      <th></th>\n",
       "      <th>Subject</th>\n",
       "      <th>Count</th>\n",
       "    </tr>\n",
       "  </thead>\n",
       "  <tbody>\n",
       "    <tr>\n",
       "      <th>6</th>\n",
       "      <td>professional law</td>\n",
       "      <td>421</td>\n",
       "    </tr>\n",
       "    <tr>\n",
       "      <th>5</th>\n",
       "      <td>high school world history</td>\n",
       "      <td>149</td>\n",
       "    </tr>\n",
       "    <tr>\n",
       "      <th>4</th>\n",
       "      <td>high school us history</td>\n",
       "      <td>124</td>\n",
       "    </tr>\n",
       "    <tr>\n",
       "      <th>2</th>\n",
       "      <td>high school european history</td>\n",
       "      <td>103</td>\n",
       "    </tr>\n",
       "    <tr>\n",
       "      <th>7</th>\n",
       "      <td>professional medicine</td>\n",
       "      <td>20</td>\n",
       "    </tr>\n",
       "    <tr>\n",
       "      <th>8</th>\n",
       "      <td>security studies</td>\n",
       "      <td>9</td>\n",
       "    </tr>\n",
       "    <tr>\n",
       "      <th>0</th>\n",
       "      <td>college medicine</td>\n",
       "      <td>5</td>\n",
       "    </tr>\n",
       "    <tr>\n",
       "      <th>1</th>\n",
       "      <td>high school computer science</td>\n",
       "      <td>1</td>\n",
       "    </tr>\n",
       "    <tr>\n",
       "      <th>3</th>\n",
       "      <td>high school statistics</td>\n",
       "      <td>1</td>\n",
       "    </tr>\n",
       "    <tr>\n",
       "      <th>9</th>\n",
       "      <td>virology</td>\n",
       "      <td>1</td>\n",
       "    </tr>\n",
       "  </tbody>\n",
       "</table>\n",
       "</div>"
      ],
      "text/plain": [
       "                        Subject  Count\n",
       "6              professional law    421\n",
       "5     high school world history    149\n",
       "4        high school us history    124\n",
       "2  high school european history    103\n",
       "7         professional medicine     20\n",
       "8              security studies      9\n",
       "0              college medicine      5\n",
       "1  high school computer science      1\n",
       "3        high school statistics      1\n",
       "9                      virology      1"
      ]
     },
     "execution_count": 2795,
     "metadata": {},
     "output_type": "execute_result"
    }
   ],
   "source": [
    "#A\n",
    "# asking the LM a question and giving it the proposed answers requires a clear format, which adds some more tokens\n",
    "additional_tokens = tokenize_text('\\nA. \\nB. \\nC.\\nD. ')\n",
    "\n",
    "# see rows where the total number of tokens (on column 4, from previous code question) is >300\n",
    "rows_with_more_than_300_tokens = array_tokens[:,4] + len(additional_tokens)>300\n",
    "\n",
    "# gets the 'subject' column from df_mmlu\n",
    "subjects_col = df_mmlu['subject']\n",
    "\n",
    "# filters the subjects column where the total token count is >300\n",
    "subjects_with_more_than_300_tokens = subjects_col[rows_with_more_than_300_tokens]\n",
    "\n",
    "# counts the occurrances of each subject with >300 tokens \n",
    "subjects_ct = ct(subjects_with_more_than_300_tokens)\n",
    "\n",
    "# conversion of the counter into a dataframe for nicer display\n",
    "subject_counts_df = pd.DataFrame(list(subjects_ct.items()), columns=['Subject', 'Count'])\n",
    "\n",
    "# sort dataframe by count \n",
    "subject_counts_df = subject_counts_df.sort_values(by='Count', ascending=False)\n",
    "\n",
    "# display it\n",
    "subject_counts_df"
   ]
  },
  {
   "cell_type": "markdown",
   "metadata": {},
   "source": [
    "#### Part B (Discussion)\n",
    "**Can you think of a strategy that would balance the needs of the government?**\n",
    "\n",
    "There are several strategies that can be applied. For instance, an easy way would be to run the turbo model only on subject that have no excessive context length. Better even, to run it only on questions that have high context length. That would represent only 750 questions, instead of the original 14042 questions. \n",
    "\n",
    "Another possible way to explore is to pre-process the questions and answers, so that the context length is reduced. For example one could remove (if it does not impact the result), some \"useless\" tokens, such as \"the\", \"or\", etc. Those words mostly impact the number of token, without providing any added information on the question/answer. One can also run an algorithm to simplify some tokens. For example 'USA' is one token, but 'U.S.A' is three. "
   ]
  },
  {
   "cell_type": "markdown",
   "metadata": {},
   "source": [
    "### 3.4 (4 pt)\n",
    "\n",
    "The time has come to give your final recommendation on the use of LMs in education to the government! Taking into account everything you analyzed in all the preceding tasks (1, 2, and 3), please write a short recommendation consisting of 4 bullet points discussing your concerns.\n",
    "\n",
    "**hint**\n",
    "- Try to use the MECE framework: _Mutually Exclusive Collectively Exhaustive_"
   ]
  },
  {
   "cell_type": "markdown",
   "metadata": {},
   "source": [
    "**Discussion**\n",
    "\n",
    "1. ⁠Firstly we recommend to always keep in mind that the Languages Models can't be assurate to give you all the results in the same format you expect (seen in Part 1.2 A, when displaying the value_counts). It is essential to remember that the generated answers may require adjustments to exactly match the needs."
   ]
  },
  {
   "cell_type": "markdown",
   "metadata": {},
   "source": [
    "2. As we have seen during the third part of the homework, Language Models have some bias. Some models are more likely to give a certain type of answers than others. During the third part, we have studied a particular bias coming from the presence of specific tokens in the quesion-answer pairs, but there are many other reasons that can skew the results, and they are often unidentifiable precisely. The bias comes from the training data and from the manner the models were learned."
   ]
  },
  {
   "cell_type": "markdown",
   "metadata": {},
   "source": [
    "3. ⁠It can happend that the answer that is choosen by the models is influenced by the order in which the answers are provided. We have seen this particularity in the part 2 of the homework when the answers's shuffle was made. Indeed, with the shuffle we have observed that the models no longer answered the same questions in the same way. We put forward the hypothesis that this order-dependent particularity comes from human ability to assign some pattern to correct answer positioning in the training question-answers pair.\n",
    "\n",
    "    It could make sense for the models to use this kind of influence if the training and testing question-answers pair are generated in the same manner. But it becomes a bad influence if the order of the answers at testing time are randomized. This must be taken into account when choosing the model in relation to the needs of the government."
   ]
  },
  {
   "cell_type": "markdown",
   "metadata": {},
   "source": [
    "4. The last recommendations is to use different LMs for different subjects. Indeed, during our analysis (**_Part 2.1 B & C_**), we saw that some LMs might perform better when asked questions on different subjects (different datasets of questions). When using LMs for education, it might be better to have a Math specialised LM for Maths, an History specialised for History etc.. \n",
    "\n",
    "    We also saw (**_Part 1.5 A_**) that there was an unbalance on the **discarded** subjects because too long answers (>10) got discarded. This uneven distribution of long answers (that get discarded) might also happen because some LMs are more specialised in certain subjects and thus prefer to give a more nuanced and precise answer on the subjects they are specialised in."
   ]
  }
 ],
 "metadata": {
  "kernelspec": {
   "display_name": "Python 3 (ipykernel)",
   "language": "python",
   "name": "python3"
  },
  "language_info": {
   "codemirror_mode": {
    "name": "ipython",
    "version": 3
   },
   "file_extension": ".py",
   "mimetype": "text/x-python",
   "name": "python",
   "nbconvert_exporter": "python",
   "pygments_lexer": "ipython3",
   "version": "3.11.9"
  }
 },
 "nbformat": 4,
 "nbformat_minor": 4
}
